{
  "nbformat": 4,
  "nbformat_minor": 0,
  "metadata": {
    "colab": {
      "name": "PyEcon.ipynb",
      "version": "0.3.2",
      "provenance": [],
      "collapsed_sections": [],
      "include_colab_link": true
    },
    "kernelspec": {
      "name": "python3",
      "display_name": "Python 3"
    }
  },
  "cells": [
    {
      "cell_type": "markdown",
      "metadata": {
        "id": "view-in-github",
        "colab_type": "text"
      },
      "source": [
        "<a href=\"https://colab.research.google.com/github/alisiina/finance/blob/master/PyEcon.ipynb\" target=\"_parent\"><img src=\"https://colab.research.google.com/assets/colab-badge.svg\" alt=\"Open In Colab\"/></a>"
      ]
    },
    {
      "metadata": {
        "id": "DwAPt4RD-HlZ",
        "colab_type": "text"
      },
      "cell_type": "markdown",
      "source": [
        "Exercises to the [Python for Econometrics in Economics](https://pyecon.org/) course, from the University of Goettingen in April 2018 by Fabian Raters. I  used the resources of this course for my own Eonometrics course in my undergraduate studies at Wuhan University.\n",
        "\n",
        "This is my Google Colab practice as well, to get familiar with working in this environment."
      ]
    },
    {
      "metadata": {
        "id": "RCkgAcdM-GgA",
        "colab_type": "text"
      },
      "cell_type": "markdown",
      "source": [
        "---\n",
        "#Exercise A\n",
        "## Exercise 1"
      ]
    },
    {
      "metadata": {
        "id": "uHgtzrfZ_Ala",
        "colab_type": "text"
      },
      "cell_type": "markdown",
      "source": [
        "Create a function with takes a vector $v=(v_1, \\dots, v_n)$ and returns the Vandermonde_Matrix $V$:\n",
        "\n",
        " $$\n",
        "V = \\left(\\begin{array}{ccccc} \n",
        "1 & v_1 & v_1^2 & \\dots & v_1^{n-1}\\\\\n",
        "1 & v_2 & v_2^2 & \\dots & v_2^{n-1}\\\\\n",
        "\\vdots & \\vdots & \\vdots & \\vdots & \\vdots\\\\\n",
        "1 & v_n & v_n^2 & \\dots & v_n^{n-1}\\\\\n",
        "\\end{array} \\right)\n",
        "$$"
      ]
    },
    {
      "metadata": {
        "id": "PYlvYGx-_uhU",
        "colab_type": "code",
        "colab": {}
      },
      "cell_type": "code",
      "source": [
        "import numpy as np\n",
        "v = np.array([1, 2, 3, 4])"
      ],
      "execution_count": 0,
      "outputs": []
    },
    {
      "metadata": {
        "id": "SFI_H2mR_1q-",
        "colab_type": "code",
        "colab": {}
      },
      "cell_type": "code",
      "source": [
        "def vandermonde(v):\n",
        "  n = len(v)\n",
        "  x = v\n",
        "  l = np.arange(n)\n",
        "  y = l\n",
        "  for i in range(n-1):\n",
        "    v = np.append(v, x)\n",
        "    l = np.append(l, y)\n",
        "  V = v.reshape((n, n)).T\n",
        "  B = l.reshape((n, n))\n",
        "  return V**B"
      ],
      "execution_count": 0,
      "outputs": []
    },
    {
      "metadata": {
        "id": "kxYxoBICBogL",
        "colab_type": "code",
        "colab": {
          "base_uri": "https://localhost:8080/",
          "height": 90
        },
        "outputId": "fe35cc6a-6706-47f3-9e92-caad91d90388"
      },
      "cell_type": "code",
      "source": [
        "vandermonde(v)"
      ],
      "execution_count": 5,
      "outputs": [
        {
          "output_type": "execute_result",
          "data": {
            "text/plain": [
              "array([[ 1,  1,  1,  1],\n",
              "       [ 1,  2,  4,  8],\n",
              "       [ 1,  3,  9, 27],\n",
              "       [ 1,  4, 16, 64]])"
            ]
          },
          "metadata": {
            "tags": []
          },
          "execution_count": 5
        }
      ]
    },
    {
      "metadata": {
        "id": "DCMLTX6cDNP0",
        "colab_type": "text"
      },
      "cell_type": "markdown",
      "source": [
        "## Exercise 2\n",
        "Create a function that takes a vector $v=(v_1, \\dots, v_n)$ and returns the mean and sum of the vector.\n",
        "\n",
        "1. Solve the task by using NumPy.\n",
        "2. Solve the task without importing modules."
      ]
    },
    {
      "metadata": {
        "id": "Uwkf9IrBDoEV",
        "colab_type": "code",
        "colab": {
          "base_uri": "https://localhost:8080/",
          "height": 35
        },
        "outputId": "bfb7d711-ac02-4612-b33a-e2de8213d8bf"
      },
      "cell_type": "code",
      "source": [
        "# 1\n",
        "y = np.array([1, 2, 3, 4])\n",
        "\n",
        "def meansum(v):\n",
        "  return v.mean(), v.sum()\n",
        "\n",
        "meansum(v)"
      ],
      "execution_count": 6,
      "outputs": [
        {
          "output_type": "execute_result",
          "data": {
            "text/plain": [
              "(2.5, 10)"
            ]
          },
          "metadata": {
            "tags": []
          },
          "execution_count": 6
        }
      ]
    },
    {
      "metadata": {
        "id": "hvfDZOwJD90F",
        "colab_type": "code",
        "colab": {
          "base_uri": "https://localhost:8080/",
          "height": 35
        },
        "outputId": "e33d473c-6de2-4980-efeb-49f8c53355b9"
      },
      "cell_type": "code",
      "source": [
        "#2\n",
        "y = [1, 2, 3, 4]\n",
        "\n",
        "def summean(v):\n",
        "  x = 0\n",
        "  for i in v:\n",
        "    x += i\n",
        "  return x / len(v), x\n",
        "\n",
        "summean(y)"
      ],
      "execution_count": 7,
      "outputs": [
        {
          "output_type": "execute_result",
          "data": {
            "text/plain": [
              "(2.5, 10)"
            ]
          },
          "metadata": {
            "tags": []
          },
          "execution_count": 7
        }
      ]
    },
    {
      "metadata": {
        "id": "voSuoMUJEXf5",
        "colab_type": "text"
      },
      "cell_type": "markdown",
      "source": [
        "## Exercise 3\n",
        "Use NumPy to check if the following vectors are linearly independent:\n",
        "\n",
        "$$\n",
        "v_1=\n",
        "\\left( \\begin{array}{c} 0 \\\\ 1 \\\\ 2 \\\\ 1 \\end{array} \\right), \n",
        "\\ v_2=\n",
        "\\left( \\begin{array}{c} 4 \\\\ 2 \\\\ 2 \\\\ 2 \\end{array} \\right),\n",
        "\\ v_3=\n",
        " \\left( \\begin{array}{c} 1 \\\\ 0 \\\\ 3 \\\\  0\\end{array} \\right),\n",
        "\\ v_4=\n",
        " \\left( \\begin{array}{c} 1 \\\\ 0 \\\\ 0 \\\\ 0 \\end{array} \\right).\n",
        "$$ \n",
        "\n",
        "In theory of vector spaces, a set of vectors is said to be **linearly independent** is none of the vectors in the set can be defined as a linear combination of the other two vectors."
      ]
    },
    {
      "metadata": {
        "id": "qaDBtfmNEQxI",
        "colab_type": "code",
        "colab": {
          "base_uri": "https://localhost:8080/",
          "height": 90
        },
        "outputId": "021f3258-8fa8-4d16-e8d6-600cea2658b3"
      },
      "cell_type": "code",
      "source": [
        "import numpy.linalg as nplin\n",
        "M = np.array([[0, 4, 1, 1], [1, 2, 0, 0], [2, 2, 3, 0], [1, 2, 0, 0]])\n",
        "print(M)"
      ],
      "execution_count": 8,
      "outputs": [
        {
          "output_type": "stream",
          "text": [
            "[[0 4 1 1]\n",
            " [1 2 0 0]\n",
            " [2 2 3 0]\n",
            " [1 2 0 0]]\n"
          ],
          "name": "stdout"
        }
      ]
    },
    {
      "metadata": {
        "id": "bxav8X2zFg2U",
        "colab_type": "code",
        "colab": {
          "base_uri": "https://localhost:8080/",
          "height": 35
        },
        "outputId": "ded30099-6c35-4059-ed03-2bffae6dc825"
      },
      "cell_type": "code",
      "source": [
        "if nplin.det(M) > 0:\n",
        "  print('Vectors are linearly independent.')\n",
        "else:\n",
        "  print('Vectors are linearly dependent.')"
      ],
      "execution_count": 9,
      "outputs": [
        {
          "output_type": "stream",
          "text": [
            "Vectors are linearly dependent.\n"
          ],
          "name": "stdout"
        }
      ]
    },
    {
      "metadata": {
        "id": "2amFRetsGp6s",
        "colab_type": "text"
      },
      "cell_type": "markdown",
      "source": [
        "## Exercise 4\n",
        "Create a function which sorts the vector $v=(v_1, \\dots, v_n)$ wihtout using the built-in `array.sort()` function and visualize the result in a graph."
      ]
    },
    {
      "metadata": {
        "id": "TWBA07igGhib",
        "colab_type": "code",
        "colab": {}
      },
      "cell_type": "code",
      "source": [
        "import matplotlib.pyplot as plt\n",
        "v = np.array([47, 7, 22, 56, 8, -2, 34, 1, 5, 45])\n",
        "\n",
        "def bubblesort(v):\n",
        "  for k in range(len(v)-1, 0, -1):\n",
        "    for i in range(k):\n",
        "      if v[i] > v[i+1]:\n",
        "        v[i], v[i+1] = v[i+1], v[i]\n",
        "  return v"
      ],
      "execution_count": 0,
      "outputs": []
    },
    {
      "metadata": {
        "id": "S65rZXo3H-Ph",
        "colab_type": "code",
        "colab": {
          "base_uri": "https://localhost:8080/",
          "height": 365
        },
        "outputId": "69a949e5-d79c-4b90-f424-2e4cd8a583e1"
      },
      "cell_type": "code",
      "source": [
        "plt.plot(bubblesort(v))"
      ],
      "execution_count": 11,
      "outputs": [
        {
          "output_type": "execute_result",
          "data": {
            "text/plain": [
              "[<matplotlib.lines.Line2D at 0x7fd644e979b0>]"
            ]
          },
          "metadata": {
            "tags": []
          },
          "execution_count": 11
        },
        {
          "output_type": "display_data",
          "data": {
            "image/png": "[encoded data removed]",
            "text/plain": [
              "<matplotlib.figure.Figure at 0x7fd644ec99e8>"
            ]
          },
          "metadata": {
            "tags": []
          }
        }
      ]
    },
    {
      "metadata": {
        "id": "IEWW0PDeKgEu",
        "colab_type": "text"
      },
      "cell_type": "markdown",
      "source": [
        "---\n",
        "# Exercise B\n",
        "## Exercise 1: NHL Hockey\n",
        "The file `nhl1617.txt` contains data of all (non-goalie) players in the NHL who had at least some _ice time_, i.e. playing time, in the 2016/2017 regular season - without play offs. Load the CSV data of the file `nhl1617.txt` in Python using `open` and further string transformations (_see below_). Try to cope with the huge string and allocate the information to a dictionary. Use the column names of the dataset as keys for the dictionary.\n",
        "\n",
        "Solve these tasks using only a dictionary consisting of lists but **not using** _pandas_:\n",
        "\n",
        "1. How many players have been recorded?\n",
        "1. A column _points_ (\"P\") is missing in the data. The number of points of a player is defined as the sum of his _goals_ (\"G\") and _assists_ (\"A\"). Add the points to your dictionary.\n",
        "1. Who is the top scorer in terms of points?\n",
        "1. How many German (non-goalie) players had some ice time in there 2016/2017 regular season? _Hint: Nationality of a player can be found in the dictionary entry \"Nat\". Germans are indicated by \"DEU\"._\n",
        "1. What are their names? *Hint: Names can be found in th entry \"Last_Name\" and \"First_Name\".*\n",
        "1. Who performed best among the German players in terms of points (\"P\")?\n",
        "1. How many points (\"P\") did he have?\n",
        "1. How well did he perform in the entire league? Put differently, what was his rank in terms of points?\n",
        "1. Find the top ten scorers (in terms of points) and print them including their number of point and their respective team.\n",
        "1. What are the three countries with the most players originating from?\n",
        " \n",
        "If you feel comfortable looping through dictionaries and lists, re-implement your codes **using** _pandas_.\n"
      ]
    },
    {
      "metadata": {
        "id": "4gnc7b3UMkHR",
        "colab_type": "code",
        "colab": {
          "base_uri": "https://localhost:8080/",
          "height": 128
        },
        "outputId": "911fca83-b24c-4446-9e0e-e90ba7650deb"
      },
      "cell_type": "code",
      "source": [
        "#Mount Google Drive locally\n",
        "from google.colab import drive\n",
        "drive.mount('/content/drive')"
      ],
      "execution_count": 12,
      "outputs": [
        {
          "output_type": "stream",
          "text": [
            "Go to this URL in a browser: https://accounts.google.com/o/oauth2/auth?client_id=947318989803-6bn6qk8qdgf4n4g3pfee6491hc0brc4i.apps.googleusercontent.com&redirect_uri=urn%3Aietf%3Awg%3Aoauth%3A2.0%3Aoob&scope=email%20https%3A%2F%2Fwww.googleapis.com%2Fauth%2Fdocs.test%20https%3A%2F%2Fwww.googleapis.com%2Fauth%2Fdrive%20https%3A%2F%2Fwww.googleapis.com%2Fauth%2Fdrive.photos.readonly%20https%3A%2F%2Fwww.googleapis.com%2Fauth%2Fpeopleapi.readonly&response_type=code\n",
            "\n",
            "Enter your authorization code:\n",
            "··········\n",
            "Mounted at /content/drive\n"
          ],
          "name": "stdout"
        }
      ]
    },
    {
      "metadata": {
        "id": "Cdso6jMhNMj7",
        "colab_type": "code",
        "colab": {
          "base_uri": "https://localhost:8080/",
          "height": 72
        },
        "outputId": "1c2b21b8-7bef-4670-ccb9-6bdc90523729"
      },
      "cell_type": "code",
      "source": [
        "#Get a list of my Drive contents\n",
        "!ls '/content/drive/My Drive/data'"
      ],
      "execution_count": 13,
      "outputs": [
        {
          "output_type": "stream",
          "text": [
            "amzn.csv     ex1.csv  goog.xls\t   out2.csv  pg.csv\t vote.csv\n",
            "btc-eur.csv  ex2.csv  nhl1617.txt  out3.csv  sie.de.csv  votingbehavior.txt\n",
            "dji.csv      ex3.csv  out1.csv\t   pfe.csv   tab.txt\n"
          ],
          "name": "stdout"
        }
      ]
    },
    {
      "metadata": {
        "id": "oyFsj2zjP7d7",
        "colab_type": "code",
        "colab": {}
      },
      "cell_type": "code",
      "source": [
        "#Load and read the NHL data\n",
        "with open('drive/My Drive/data/nhl1617.txt') as f:\n",
        "  data = f.read()\n",
        "  \n",
        "#Clean the data\n",
        "data = data.replace('\"', '')\n",
        "data = data.splitlines()\n",
        "var_names = data[0]\n",
        "var_names = var_names.rsplit(\";\")\n",
        "data.pop(0)\n",
        "NHL = {}\n",
        "\n",
        "for keys in var_names:\n",
        "    NHL[keys] = []\n",
        "\n",
        "for line in data:\n",
        "    line = line.rsplit(';')\n",
        "    for info, keys in zip(line, NHL):\n",
        "        NHL[keys].append(info)"
      ],
      "execution_count": 0,
      "outputs": []
    },
    {
      "metadata": {
        "id": "5VDIb1KttuOg",
        "colab_type": "code",
        "colab": {
          "base_uri": "https://localhost:8080/",
          "height": 199
        },
        "outputId": "a0fefcb5-858d-46c2-fd36-647a4bdeee69"
      },
      "cell_type": "code",
      "source": [
        "NHL['Last_Name'][:10]"
      ],
      "execution_count": 15,
      "outputs": [
        {
          "output_type": "execute_result",
          "data": {
            "text/plain": [
              "['Abbott',\n",
              " 'Abdelkader',\n",
              " 'Aberg',\n",
              " 'Acciari',\n",
              " 'Agostino',\n",
              " 'Aho',\n",
              " 'Alzner',\n",
              " 'Anderson',\n",
              " 'Andersson',\n",
              " 'Andreoff']"
            ]
          },
          "metadata": {
            "tags": []
          },
          "execution_count": 15
        }
      ]
    },
    {
      "metadata": {
        "id": "FBxNHx-Jvdrn",
        "colab_type": "code",
        "colab": {
          "base_uri": "https://localhost:8080/",
          "height": 35
        },
        "outputId": "8407e35f-e7c3-4463-f67e-59c18f9ac877"
      },
      "cell_type": "code",
      "source": [
        "#Total number of players\n",
        "n = len(NHL['Last_Name'])\n",
        "n"
      ],
      "execution_count": 16,
      "outputs": [
        {
          "output_type": "execute_result",
          "data": {
            "text/plain": [
              "888"
            ]
          },
          "metadata": {
            "tags": []
          },
          "execution_count": 16
        }
      ]
    },
    {
      "metadata": {
        "id": "j19sNMSuzBSD",
        "colab_type": "code",
        "colab": {
          "base_uri": "https://localhost:8080/",
          "height": 35
        },
        "outputId": "b2709a75-a3a0-41de-b17d-ee2cdf76837f"
      },
      "cell_type": "code",
      "source": [
        "#Creating the points column\n",
        "NHL['P'] = []\n",
        "\n",
        "for G, A in zip(NHL['G'], NHL['A']):\n",
        "    NHL['P'].append(int(G) + int(A))\n",
        "  \n",
        "NHL['P'][:10]"
      ],
      "execution_count": 17,
      "outputs": [
        {
          "output_type": "execute_result",
          "data": {
            "text/plain": [
              "[0, 21, 2, 5, 3, 49, 13, 29, 0, 2]"
            ]
          },
          "metadata": {
            "tags": []
          },
          "execution_count": 17
        }
      ]
    },
    {
      "metadata": {
        "id": "HAVrA-G0zDWN",
        "colab_type": "code",
        "colab": {
          "base_uri": "https://localhost:8080/",
          "height": 53
        },
        "outputId": "6aa8dd32-1c0c-48d8-adf2-65e909c8ab2f"
      },
      "cell_type": "code",
      "source": [
        "#Finding the top scoer\n",
        "max_p = max(NHL['P'])\n",
        "index = [i for i in range(n) if NHL['P'][i] == max_p]\n",
        "\n",
        "if len(index) == 1:\n",
        "    s = ' is'\n",
        "else:\n",
        "    s = 's are'\n",
        "\n",
        "print(f'The top scorer{s}:')\n",
        "for i in index:\n",
        "    print(f\"{NHL['Last_Name'][i]}, {NHL['First_Name'][i]}\")"
      ],
      "execution_count": 18,
      "outputs": [
        {
          "output_type": "stream",
          "text": [
            "The top scorer is:\n",
            "McDavid, Connor\n"
          ],
          "name": "stdout"
        }
      ]
    },
    {
      "metadata": {
        "id": "yqU-JvDx0biX",
        "colab_type": "code",
        "colab": {
          "base_uri": "https://localhost:8080/",
          "height": 126
        },
        "outputId": "22149aaf-1fcf-4975-e6f5-7b2bbed69696"
      },
      "cell_type": "code",
      "source": [
        "#Finding the German (non-goalie) players of the regular season\n",
        "index = [i for i in range(n) if NHL['Nat'][i] == 'DEU']\n",
        "\n",
        "#Alternative approach to getting the above\n",
        "#count = 0\n",
        "#for nation in NHL['Nat']:\n",
        "#  if nation == 'DEU':\n",
        "#     count += 1\n",
        "\n",
        "print (f'In the 2016/17 regular season there were {len(index)}'\\\n",
        "       f' German (non-goalie) players:')\n",
        "\n",
        "for i in index:\n",
        "    print(f\"{NHL['Last_Name'][i]}, {NHL['First_Name'][i]}\")"
      ],
      "execution_count": 19,
      "outputs": [
        {
          "output_type": "stream",
          "text": [
            "In the 2016/17 regular season there were 5 German (non-goalie) players:\n",
            "Draisaitl, Leon\n",
            "Holzer, Korbinian\n",
            "Kuhnhackl, Tom\n",
            "Rieder, Tobias\n",
            "Seidenberg, Dennis\n"
          ],
          "name": "stdout"
        }
      ]
    },
    {
      "metadata": {
        "id": "XTIwoScx1yGL",
        "colab_type": "code",
        "colab": {
          "base_uri": "https://localhost:8080/",
          "height": 35
        },
        "outputId": "9e4d4aaa-4da9-4ce8-c0b7-786632b2738d"
      },
      "cell_type": "code",
      "source": [
        "#Finding the German top scorer(s)\n",
        "ger_p = [NHL['P'][i] for i in index]\n",
        "max_p = max(ger_p)\n",
        "index_p = [index[i] for i, p in enumerate(ger_p) if p == max_p]\n",
        "\n",
        "for i in index_p:\n",
        "    print(f\"{NHL['Last_Name'][i]} (Points: {max_p}) was\"\\\n",
        "          f\" the best performing German NHL player.\")"
      ],
      "execution_count": 20,
      "outputs": [
        {
          "output_type": "stream",
          "text": [
            "Draisaitl (Points: 77) was the best performing German NHL player.\n"
          ],
          "name": "stdout"
        }
      ]
    },
    {
      "metadata": {
        "id": "5yGWqFVQ29JU",
        "colab_type": "code",
        "colab": {
          "base_uri": "https://localhost:8080/",
          "height": 35
        },
        "outputId": "580e6441-6244-4dbe-8050-058f6ebbd20e"
      },
      "cell_type": "code",
      "source": [
        "#Assessing relative performance\n",
        "count = 1\n",
        "for i in NHL['P']:\n",
        "    if i > max_p:\n",
        "      count += 1\n",
        "\n",
        "print(f\"{NHL['Last_Name'][index_p[0]]} was the {count}th\"\\\n",
        "      f\" best performing German player in the entire league.\")"
      ],
      "execution_count": 21,
      "outputs": [
        {
          "output_type": "stream",
          "text": [
            "Draisaitl was the 8th best performing German player in the entire league.\n"
          ],
          "name": "stdout"
        }
      ]
    },
    {
      "metadata": {
        "id": "_5Jxz3cr41_m",
        "colab_type": "code",
        "colab": {
          "base_uri": "https://localhost:8080/",
          "height": 199
        },
        "outputId": "ba264311-4559-42bc-d0b8-3917c3b7f59d"
      },
      "cell_type": "code",
      "source": [
        "#Top 10 scorers\n",
        "index = [i for i, j in sorted(enumerate(NHL['P']),\n",
        "                              reverse=True,\n",
        "                              key=lambda x: x[1])]\n",
        "\n",
        "for i in range(0, 10):\n",
        "    print(f\"{i + 1:2}. {NHL['Last_Name'][index[i]]:15}\"\n",
        "          f\"  Team: {NHL['Team'][index[i]]:10}\"\n",
        "          f\"  Points: {NHL['P'][index[i]]:3}\")"
      ],
      "execution_count": 22,
      "outputs": [
        {
          "output_type": "stream",
          "text": [
            " 1. McDavid          Team: EDM         Points: 100\n",
            " 2. Crosby           Team: PIT         Points:  89\n",
            " 3. Kane             Team: CHI         Points:  89\n",
            " 4. Backstrom        Team: WSH         Points:  86\n",
            " 5. Kucherov         Team: T.B         Points:  85\n",
            " 6. Marchand         Team: BOS         Points:  85\n",
            " 7. Scheifele        Team: WPG         Points:  82\n",
            " 8. Draisaitl        Team: EDM         Points:  77\n",
            " 9. Burns            Team: S.J         Points:  76\n",
            "10. Tarasenko        Team: STL         Points:  75\n"
          ],
          "name": "stdout"
        }
      ]
    },
    {
      "metadata": {
        "id": "P1o4sDlU6ZrZ",
        "colab_type": "code",
        "colab": {
          "base_uri": "https://localhost:8080/",
          "height": 72
        },
        "outputId": "1936a1b0-88a3-48d8-b587-6380934d5d4a"
      },
      "cell_type": "code",
      "source": [
        "#The three countries with the most players originating from\n",
        "counts = {}\n",
        "for nation in NHL['Nat']:\n",
        "    if nation in counts:\n",
        "        counts[nation] += 1\n",
        "    else:\n",
        "        counts[nation] = 1\n",
        "\n",
        "top3 = sorted(counts.items(), key=lambda x: x[1], reverse=True)[0:3]\n",
        "for nation, count in top3:\n",
        "    print(f\"{nation}, {count}\")"
      ],
      "execution_count": 23,
      "outputs": [
        {
          "output_type": "stream",
          "text": [
            "CAN, 413\n",
            "USA, 243\n",
            "SWE, 79\n"
          ],
          "name": "stdout"
        }
      ]
    },
    {
      "metadata": {
        "id": "XFewP8DR7JUW",
        "colab_type": "text"
      },
      "cell_type": "markdown",
      "source": [
        "## Exercise 2: Same sex marriage\n",
        "The file `votingbehavior.txt` contains the voting behavior of all members of the german parliament regarding a draft that aimed to legalise same sex marriage. Party membership is also part of the dataset.\n",
        "\n",
        "The following list contains the ministers: ['Merkel', 'Altmaier', 'Friedrich, Dr.', 'Leyen', 'Schmidt, Christian', 'Dobrindt', 'Maizière, Dr.', 'Schäuble']\n",
        " \n",
        "Note that _Wanka_ was not part of the German parliament. _Gröhe_ and _Müller_ did not participate in the poll.\n",
        " \n",
        "1. We are interested in the share of voting in favor of same sex marriage grouped by party membership.\n",
        "2. Display the votings of the members of the CDU/CSU who were also part of the top-level administration."
      ]
    },
    {
      "metadata": {
        "id": "-OLSS_Q47AeS",
        "colab_type": "code",
        "colab": {}
      },
      "cell_type": "code",
      "source": [
        "names = ['Merkel', 'Altmaier', 'Friedrich, Dr.', 'Leyen', 'Schmidt, Christian',\n",
        "         'Dobrindt', 'Maizière, Dr.', 'Schäuble']"
      ],
      "execution_count": 0,
      "outputs": []
    },
    {
      "metadata": {
        "id": "jMq-ufrf8udn",
        "colab_type": "text"
      },
      "cell_type": "markdown",
      "source": [
        "First by using Pandas:"
      ]
    },
    {
      "metadata": {
        "id": "OVaC_Skm74tG",
        "colab_type": "code",
        "colab": {
          "base_uri": "https://localhost:8080/",
          "height": 363
        },
        "outputId": "c02376bc-79c8-4e90-bc20-077265bc3897"
      },
      "cell_type": "code",
      "source": [
        "import pandas as pd\n",
        "\n",
        "df = pd.read_csv('drive/My Drive/data/votingbehavior.txt', sep=';')\n",
        "df.head(10)"
      ],
      "execution_count": 25,
      "outputs": [
        {
          "output_type": "execute_result",
          "data": {
            "text/html": [
              "<div>\n",
              "<style scoped>\n",
              "    .dataframe tbody tr th:only-of-type {\n",
              "        vertical-align: middle;\n",
              "    }\n",
              "\n",
              "    .dataframe tbody tr th {\n",
              "        vertical-align: top;\n",
              "    }\n",
              "\n",
              "    .dataframe thead th {\n",
              "        text-align: right;\n",
              "    }\n",
              "</style>\n",
              "<table border=\"1\" class=\"dataframe\">\n",
              "  <thead>\n",
              "    <tr style=\"text-align: right;\">\n",
              "      <th></th>\n",
              "      <th>Assemblyman</th>\n",
              "      <th>Party</th>\n",
              "      <th>Vote</th>\n",
              "    </tr>\n",
              "  </thead>\n",
              "  <tbody>\n",
              "    <tr>\n",
              "      <th>0</th>\n",
              "      <td>Albani, Stephan</td>\n",
              "      <td>CDU/CSU</td>\n",
              "      <td>Ja</td>\n",
              "    </tr>\n",
              "    <tr>\n",
              "      <th>1</th>\n",
              "      <td>Albsteiger, Katrin</td>\n",
              "      <td>CDU/CSU</td>\n",
              "      <td>Nein</td>\n",
              "    </tr>\n",
              "    <tr>\n",
              "      <th>2</th>\n",
              "      <td>Altmaier, Peter</td>\n",
              "      <td>CDU/CSU</td>\n",
              "      <td>Ja</td>\n",
              "    </tr>\n",
              "    <tr>\n",
              "      <th>3</th>\n",
              "      <td>Auernhammer, Artur</td>\n",
              "      <td>CDU/CSU</td>\n",
              "      <td>Nein</td>\n",
              "    </tr>\n",
              "    <tr>\n",
              "      <th>4</th>\n",
              "      <td>Bär, Dorothee</td>\n",
              "      <td>CDU/CSU</td>\n",
              "      <td>Nein</td>\n",
              "    </tr>\n",
              "    <tr>\n",
              "      <th>5</th>\n",
              "      <td>Bareiß, Thomas</td>\n",
              "      <td>CDU/CSU</td>\n",
              "      <td>Nein</td>\n",
              "    </tr>\n",
              "    <tr>\n",
              "      <th>6</th>\n",
              "      <td>Barthle, Norbert</td>\n",
              "      <td>CDU/CSU</td>\n",
              "      <td>Nein</td>\n",
              "    </tr>\n",
              "    <tr>\n",
              "      <th>7</th>\n",
              "      <td>Baumann, Günter</td>\n",
              "      <td>CDU/CSU</td>\n",
              "      <td>Nein</td>\n",
              "    </tr>\n",
              "    <tr>\n",
              "      <th>8</th>\n",
              "      <td>Beermann, Maik</td>\n",
              "      <td>CDU/CSU</td>\n",
              "      <td>Ja</td>\n",
              "    </tr>\n",
              "    <tr>\n",
              "      <th>9</th>\n",
              "      <td>Behrens, Manfred</td>\n",
              "      <td>CDU/CSU</td>\n",
              "      <td>Nein</td>\n",
              "    </tr>\n",
              "  </tbody>\n",
              "</table>\n",
              "</div>"
            ],
            "text/plain": [
              "          Assemblyman    Party  Vote\n",
              "0     Albani, Stephan  CDU/CSU    Ja\n",
              "1  Albsteiger, Katrin  CDU/CSU  Nein\n",
              "2     Altmaier, Peter  CDU/CSU    Ja\n",
              "3  Auernhammer, Artur  CDU/CSU  Nein\n",
              "4       Bär, Dorothee  CDU/CSU  Nein\n",
              "5      Bareiß, Thomas  CDU/CSU  Nein\n",
              "6    Barthle, Norbert  CDU/CSU  Nein\n",
              "7     Baumann, Günter  CDU/CSU  Nein\n",
              "8      Beermann, Maik  CDU/CSU    Ja\n",
              "9    Behrens, Manfred  CDU/CSU  Nein"
            ]
          },
          "metadata": {
            "tags": []
          },
          "execution_count": 25
        }
      ]
    },
    {
      "metadata": {
        "id": "A27zsril8Z8V",
        "colab_type": "code",
        "colab": {
          "base_uri": "https://localhost:8080/",
          "height": 394
        },
        "outputId": "c490c45d-d877-4aca-80cf-e9c2c58afade"
      },
      "cell_type": "code",
      "source": [
        "#Total votes by each party\n",
        "res = df.groupby(['Party', 'Vote']).count()\n",
        "res.columns = ['abs']\n",
        "res"
      ],
      "execution_count": 32,
      "outputs": [
        {
          "output_type": "execute_result",
          "data": {
            "text/html": [
              "<div>\n",
              "<style scoped>\n",
              "    .dataframe tbody tr th:only-of-type {\n",
              "        vertical-align: middle;\n",
              "    }\n",
              "\n",
              "    .dataframe tbody tr th {\n",
              "        vertical-align: top;\n",
              "    }\n",
              "\n",
              "    .dataframe thead th {\n",
              "        text-align: right;\n",
              "    }\n",
              "</style>\n",
              "<table border=\"1\" class=\"dataframe\">\n",
              "  <thead>\n",
              "    <tr style=\"text-align: right;\">\n",
              "      <th></th>\n",
              "      <th></th>\n",
              "      <th>abs</th>\n",
              "    </tr>\n",
              "    <tr>\n",
              "      <th>Party</th>\n",
              "      <th>Vote</th>\n",
              "      <th></th>\n",
              "    </tr>\n",
              "  </thead>\n",
              "  <tbody>\n",
              "    <tr>\n",
              "      <th>B90/Grüne</th>\n",
              "      <th>Ja</th>\n",
              "      <td>63</td>\n",
              "    </tr>\n",
              "    <tr>\n",
              "      <th rowspan=\"4\" valign=\"top\">CDU/CSU</th>\n",
              "      <th>Enthalten</th>\n",
              "      <td>4</td>\n",
              "    </tr>\n",
              "    <tr>\n",
              "      <th>Ja</th>\n",
              "      <td>75</td>\n",
              "    </tr>\n",
              "    <tr>\n",
              "      <th>Nein</th>\n",
              "      <td>225</td>\n",
              "    </tr>\n",
              "    <tr>\n",
              "      <th>Nicht abg.</th>\n",
              "      <td>5</td>\n",
              "    </tr>\n",
              "    <tr>\n",
              "      <th rowspan=\"2\" valign=\"top\">Die Linke</th>\n",
              "      <th>Ja</th>\n",
              "      <td>63</td>\n",
              "    </tr>\n",
              "    <tr>\n",
              "      <th>Nicht abg.</th>\n",
              "      <td>1</td>\n",
              "    </tr>\n",
              "    <tr>\n",
              "      <th rowspan=\"2\" valign=\"top\">SPD</th>\n",
              "      <th>Ja</th>\n",
              "      <td>192</td>\n",
              "    </tr>\n",
              "    <tr>\n",
              "      <th>Nicht abg.</th>\n",
              "      <td>1</td>\n",
              "    </tr>\n",
              "    <tr>\n",
              "      <th>fraktionslos</th>\n",
              "      <th>Nein</th>\n",
              "      <td>1</td>\n",
              "    </tr>\n",
              "  </tbody>\n",
              "</table>\n",
              "</div>"
            ],
            "text/plain": [
              "                         abs\n",
              "Party        Vote           \n",
              "B90/Grüne    Ja           63\n",
              "CDU/CSU      Enthalten     4\n",
              "             Ja           75\n",
              "             Nein        225\n",
              "             Nicht abg.    5\n",
              "Die Linke    Ja           63\n",
              "             Nicht abg.    1\n",
              "SPD          Ja          192\n",
              "             Nicht abg.    1\n",
              "fraktionslos Nein          1"
            ]
          },
          "metadata": {
            "tags": []
          },
          "execution_count": 32
        }
      ]
    },
    {
      "metadata": {
        "id": "Y0V-bPsSXM-r",
        "colab_type": "code",
        "colab": {
          "base_uri": "https://localhost:8080/",
          "height": 394
        },
        "outputId": "9875ab22-f738-4e1e-d979-5d0189a42c57"
      },
      "cell_type": "code",
      "source": [
        "#Relative voting contribution\n",
        "res['rel'] = res / res.groupby(level=0).sum()\n",
        "res"
      ],
      "execution_count": 33,
      "outputs": [
        {
          "output_type": "execute_result",
          "data": {
            "text/html": [
              "<div>\n",
              "<style scoped>\n",
              "    .dataframe tbody tr th:only-of-type {\n",
              "        vertical-align: middle;\n",
              "    }\n",
              "\n",
              "    .dataframe tbody tr th {\n",
              "        vertical-align: top;\n",
              "    }\n",
              "\n",
              "    .dataframe thead th {\n",
              "        text-align: right;\n",
              "    }\n",
              "</style>\n",
              "<table border=\"1\" class=\"dataframe\">\n",
              "  <thead>\n",
              "    <tr style=\"text-align: right;\">\n",
              "      <th></th>\n",
              "      <th></th>\n",
              "      <th>abs</th>\n",
              "      <th>rel</th>\n",
              "    </tr>\n",
              "    <tr>\n",
              "      <th>Party</th>\n",
              "      <th>Vote</th>\n",
              "      <th></th>\n",
              "      <th></th>\n",
              "    </tr>\n",
              "  </thead>\n",
              "  <tbody>\n",
              "    <tr>\n",
              "      <th>B90/Grüne</th>\n",
              "      <th>Ja</th>\n",
              "      <td>63</td>\n",
              "      <td>1.000000</td>\n",
              "    </tr>\n",
              "    <tr>\n",
              "      <th rowspan=\"4\" valign=\"top\">CDU/CSU</th>\n",
              "      <th>Enthalten</th>\n",
              "      <td>4</td>\n",
              "      <td>0.012945</td>\n",
              "    </tr>\n",
              "    <tr>\n",
              "      <th>Ja</th>\n",
              "      <td>75</td>\n",
              "      <td>0.242718</td>\n",
              "    </tr>\n",
              "    <tr>\n",
              "      <th>Nein</th>\n",
              "      <td>225</td>\n",
              "      <td>0.728155</td>\n",
              "    </tr>\n",
              "    <tr>\n",
              "      <th>Nicht abg.</th>\n",
              "      <td>5</td>\n",
              "      <td>0.016181</td>\n",
              "    </tr>\n",
              "    <tr>\n",
              "      <th rowspan=\"2\" valign=\"top\">Die Linke</th>\n",
              "      <th>Ja</th>\n",
              "      <td>63</td>\n",
              "      <td>0.984375</td>\n",
              "    </tr>\n",
              "    <tr>\n",
              "      <th>Nicht abg.</th>\n",
              "      <td>1</td>\n",
              "      <td>0.015625</td>\n",
              "    </tr>\n",
              "    <tr>\n",
              "      <th rowspan=\"2\" valign=\"top\">SPD</th>\n",
              "      <th>Ja</th>\n",
              "      <td>192</td>\n",
              "      <td>0.994819</td>\n",
              "    </tr>\n",
              "    <tr>\n",
              "      <th>Nicht abg.</th>\n",
              "      <td>1</td>\n",
              "      <td>0.005181</td>\n",
              "    </tr>\n",
              "    <tr>\n",
              "      <th>fraktionslos</th>\n",
              "      <th>Nein</th>\n",
              "      <td>1</td>\n",
              "      <td>1.000000</td>\n",
              "    </tr>\n",
              "  </tbody>\n",
              "</table>\n",
              "</div>"
            ],
            "text/plain": [
              "                         abs       rel\n",
              "Party        Vote                     \n",
              "B90/Grüne    Ja           63  1.000000\n",
              "CDU/CSU      Enthalten     4  0.012945\n",
              "             Ja           75  0.242718\n",
              "             Nein        225  0.728155\n",
              "             Nicht abg.    5  0.016181\n",
              "Die Linke    Ja           63  0.984375\n",
              "             Nicht abg.    1  0.015625\n",
              "SPD          Ja          192  0.994819\n",
              "             Nicht abg.    1  0.005181\n",
              "fraktionslos Nein          1  1.000000"
            ]
          },
          "metadata": {
            "tags": []
          },
          "execution_count": 33
        }
      ]
    },
    {
      "metadata": {
        "id": "1rBLcvLYXmik",
        "colab_type": "code",
        "colab": {
          "base_uri": "https://localhost:8080/",
          "height": 300
        },
        "outputId": "fe572702-bdfe-4d7e-a255-479acb9949ba"
      },
      "cell_type": "code",
      "source": [
        "#Without using the non-votes\n",
        "res = df[df['Vote'] != 'Nicht abg.'].groupby(['Party', 'Vote']).count()\n",
        "res.columns = ['abs']\n",
        "res['rel'] = res / res.groupby(level=0).sum()\n",
        "res"
      ],
      "execution_count": 34,
      "outputs": [
        {
          "output_type": "execute_result",
          "data": {
            "text/html": [
              "<div>\n",
              "<style scoped>\n",
              "    .dataframe tbody tr th:only-of-type {\n",
              "        vertical-align: middle;\n",
              "    }\n",
              "\n",
              "    .dataframe tbody tr th {\n",
              "        vertical-align: top;\n",
              "    }\n",
              "\n",
              "    .dataframe thead th {\n",
              "        text-align: right;\n",
              "    }\n",
              "</style>\n",
              "<table border=\"1\" class=\"dataframe\">\n",
              "  <thead>\n",
              "    <tr style=\"text-align: right;\">\n",
              "      <th></th>\n",
              "      <th></th>\n",
              "      <th>abs</th>\n",
              "      <th>rel</th>\n",
              "    </tr>\n",
              "    <tr>\n",
              "      <th>Party</th>\n",
              "      <th>Vote</th>\n",
              "      <th></th>\n",
              "      <th></th>\n",
              "    </tr>\n",
              "  </thead>\n",
              "  <tbody>\n",
              "    <tr>\n",
              "      <th>B90/Grüne</th>\n",
              "      <th>Ja</th>\n",
              "      <td>63</td>\n",
              "      <td>1.000000</td>\n",
              "    </tr>\n",
              "    <tr>\n",
              "      <th rowspan=\"3\" valign=\"top\">CDU/CSU</th>\n",
              "      <th>Enthalten</th>\n",
              "      <td>4</td>\n",
              "      <td>0.013158</td>\n",
              "    </tr>\n",
              "    <tr>\n",
              "      <th>Ja</th>\n",
              "      <td>75</td>\n",
              "      <td>0.246711</td>\n",
              "    </tr>\n",
              "    <tr>\n",
              "      <th>Nein</th>\n",
              "      <td>225</td>\n",
              "      <td>0.740132</td>\n",
              "    </tr>\n",
              "    <tr>\n",
              "      <th>Die Linke</th>\n",
              "      <th>Ja</th>\n",
              "      <td>63</td>\n",
              "      <td>1.000000</td>\n",
              "    </tr>\n",
              "    <tr>\n",
              "      <th>SPD</th>\n",
              "      <th>Ja</th>\n",
              "      <td>192</td>\n",
              "      <td>1.000000</td>\n",
              "    </tr>\n",
              "    <tr>\n",
              "      <th>fraktionslos</th>\n",
              "      <th>Nein</th>\n",
              "      <td>1</td>\n",
              "      <td>1.000000</td>\n",
              "    </tr>\n",
              "  </tbody>\n",
              "</table>\n",
              "</div>"
            ],
            "text/plain": [
              "                        abs       rel\n",
              "Party        Vote                    \n",
              "B90/Grüne    Ja          63  1.000000\n",
              "CDU/CSU      Enthalten    4  0.013158\n",
              "             Ja          75  0.246711\n",
              "             Nein       225  0.740132\n",
              "Die Linke    Ja          63  1.000000\n",
              "SPD          Ja         192  1.000000\n",
              "fraktionslos Nein         1  1.000000"
            ]
          },
          "metadata": {
            "tags": []
          },
          "execution_count": 34
        }
      ]
    },
    {
      "metadata": {
        "id": "w6JnDXKpY4S-",
        "colab_type": "text"
      },
      "cell_type": "markdown",
      "source": [
        "Another solution without using Pandas:"
      ]
    },
    {
      "metadata": {
        "id": "9wV55Es8Yn3S",
        "colab_type": "code",
        "colab": {
          "base_uri": "https://localhost:8080/",
          "height": 35
        },
        "outputId": "c0835356-5820-46c5-fe61-25193d188f4b"
      },
      "cell_type": "code",
      "source": [
        "#read the data\n",
        "with open('drive/My Drive/data/votingbehavior.txt') as f:\n",
        "    data = f.read()\n",
        "\n",
        "#clean the data\n",
        "data = data.replace('\"', '')\n",
        "data = data.splitlines()\n",
        "var_names = data[0]\n",
        "var_names = var_names.rsplit(';')\n",
        "data.pop(0)\n",
        "\n",
        "vote = {}\n",
        "for keys in var_names:\n",
        "    vote[keys] = []\n",
        "for line in data:\n",
        "    line = line.rsplit(';')\n",
        "    for info, keys in zip(line, vote):\n",
        "        vote[keys].append(info)\n",
        "        \n",
        "parties = {}\n",
        "for party in list(set(vote[\"Party\"])):\n",
        "    parties[party] = []\n",
        "for party in parties:\n",
        "    num_assembly = [1 for i, j in zip(vote[\"Vote\"], vote[\"Party\"])\n",
        "                    if i != \"Nicht abg.\" and j == party]\n",
        "    num_assembly = sum(num_assembly)\n",
        "    share = [1 for i, j in zip(vote[\"Vote\"], vote[\"Party\"])\n",
        "             if i == \"Ja\" and j == party]\n",
        "    share = sum(share) / num_assembly\n",
        "    parties[party] = share\n",
        "    \n",
        "print(parties)"
      ],
      "execution_count": 41,
      "outputs": [
        {
          "output_type": "stream",
          "text": [
            "{'Die Linke': 1.0, 'SPD': 1.0, 'fraktionslos': 0.0, 'B90/Grüne': 1.0, 'CDU/CSU': 0.24671052631578946}\n"
          ],
          "name": "stdout"
        }
      ]
    },
    {
      "metadata": {
        "id": "EZwuOeS3aVJp",
        "colab_type": "code",
        "colab": {
          "base_uri": "https://localhost:8080/",
          "height": 300
        },
        "outputId": "5bb3f434-edbd-441b-dd98-d8244308b35a"
      },
      "cell_type": "code",
      "source": [
        "#solution to (2) using Pandas\n",
        "df[df.Assemblyman.str.contains('|'.join(names))]"
      ],
      "execution_count": 39,
      "outputs": [
        {
          "output_type": "execute_result",
          "data": {
            "text/html": [
              "<div>\n",
              "<style scoped>\n",
              "    .dataframe tbody tr th:only-of-type {\n",
              "        vertical-align: middle;\n",
              "    }\n",
              "\n",
              "    .dataframe tbody tr th {\n",
              "        vertical-align: top;\n",
              "    }\n",
              "\n",
              "    .dataframe thead th {\n",
              "        text-align: right;\n",
              "    }\n",
              "</style>\n",
              "<table border=\"1\" class=\"dataframe\">\n",
              "  <thead>\n",
              "    <tr style=\"text-align: right;\">\n",
              "      <th></th>\n",
              "      <th>Assemblyman</th>\n",
              "      <th>Party</th>\n",
              "      <th>Vote</th>\n",
              "    </tr>\n",
              "  </thead>\n",
              "  <tbody>\n",
              "    <tr>\n",
              "      <th>2</th>\n",
              "      <td>Altmaier, Peter</td>\n",
              "      <td>CDU/CSU</td>\n",
              "      <td>Ja</td>\n",
              "    </tr>\n",
              "    <tr>\n",
              "      <th>33</th>\n",
              "      <td>Dobrindt, Alexander</td>\n",
              "      <td>CDU/CSU</td>\n",
              "      <td>Nein</td>\n",
              "    </tr>\n",
              "    <tr>\n",
              "      <th>52</th>\n",
              "      <td>Friedrich, Dr. Hans-Peter</td>\n",
              "      <td>CDU/CSU</td>\n",
              "      <td>Nein</td>\n",
              "    </tr>\n",
              "    <tr>\n",
              "      <th>155</th>\n",
              "      <td>Leyen, Dr. Ursula von der</td>\n",
              "      <td>CDU/CSU</td>\n",
              "      <td>Ja</td>\n",
              "    </tr>\n",
              "    <tr>\n",
              "      <th>168</th>\n",
              "      <td>Maizière, Dr. Thomas de</td>\n",
              "      <td>CDU/CSU</td>\n",
              "      <td>Nein</td>\n",
              "    </tr>\n",
              "    <tr>\n",
              "      <th>176</th>\n",
              "      <td>Merkel, Dr. Angela</td>\n",
              "      <td>CDU/CSU</td>\n",
              "      <td>Nein</td>\n",
              "    </tr>\n",
              "    <tr>\n",
              "      <th>223</th>\n",
              "      <td>Schäuble, Dr. Wolfgang</td>\n",
              "      <td>CDU/CSU</td>\n",
              "      <td>Nein</td>\n",
              "    </tr>\n",
              "    <tr>\n",
              "      <th>229</th>\n",
              "      <td>Schmidt, Christian</td>\n",
              "      <td>CDU/CSU</td>\n",
              "      <td>Nein</td>\n",
              "    </tr>\n",
              "  </tbody>\n",
              "</table>\n",
              "</div>"
            ],
            "text/plain": [
              "                   Assemblyman    Party  Vote\n",
              "2              Altmaier, Peter  CDU/CSU    Ja\n",
              "33         Dobrindt, Alexander  CDU/CSU  Nein\n",
              "52   Friedrich, Dr. Hans-Peter  CDU/CSU  Nein\n",
              "155  Leyen, Dr. Ursula von der  CDU/CSU    Ja\n",
              "168    Maizière, Dr. Thomas de  CDU/CSU  Nein\n",
              "176         Merkel, Dr. Angela  CDU/CSU  Nein\n",
              "223     Schäuble, Dr. Wolfgang  CDU/CSU  Nein\n",
              "229         Schmidt, Christian  CDU/CSU  Nein"
            ]
          },
          "metadata": {
            "tags": []
          },
          "execution_count": 39
        }
      ]
    },
    {
      "metadata": {
        "id": "bh0g-5oYbSwR",
        "colab_type": "code",
        "colab": {
          "base_uri": "https://localhost:8080/",
          "height": 162
        },
        "outputId": "8a7dfc29-3771-4edc-b7f2-8ab87a1b4bfd"
      },
      "cell_type": "code",
      "source": [
        "#solution to (2) without using pandas\n",
        "index = []\n",
        "\n",
        "for i in range(0, len(vote['Assemblyman'])):\n",
        "    for j in names:\n",
        "        if j in vote['Assemblyman'][i]:\n",
        "            index.append(i)\n",
        "            \n",
        "for i in index:\n",
        "    assemblyman = vote['Assemblyman'][i]\n",
        "    name = assemblyman[assemblyman.find(',') + 1:].replace(' ', '')\n",
        "    name = name + ' ' + assemblyman[0:assemblyman.find(',')]\n",
        "    print(name, 'voted \"%s\".' % vote['Vote'][i])"
      ],
      "execution_count": 43,
      "outputs": [
        {
          "output_type": "stream",
          "text": [
            "Peter Altmaier voted \"Ja\".\n",
            "Alexander Dobrindt voted \"Nein\".\n",
            "Dr.Hans-Peter Friedrich voted \"Nein\".\n",
            "Dr.Ursulavonder Leyen voted \"Ja\".\n",
            "Dr.Thomasde Maizière voted \"Nein\".\n",
            "Dr.Angela Merkel voted \"Nein\".\n",
            "Dr.Wolfgang Schäuble voted \"Nein\".\n",
            "Christian Schmidt voted \"Nein\".\n"
          ],
          "name": "stdout"
        }
      ]
    },
    {
      "metadata": {
        "id": "ycdVtpv3csyK",
        "colab_type": "text"
      },
      "cell_type": "markdown",
      "source": [
        "## Exercise 3: Stock market data\n",
        "1. Read the file `amzn.csv` into a DataFrame.\n",
        "1. Read the file `dji.csv` into a new DataFrame.\n",
        "1. Remove all columns in both DataFrames except _Adj Close_ and _Volume_.\n",
        "1. Rename columns to _Amzn Adj Close_, _Amzn Volume_, _Dji Adj Close_, _Dji Volume_.\n"
      ]
    },
    {
      "metadata": {
        "id": "66Tr865fcBtK",
        "colab_type": "code",
        "colab": {
          "base_uri": "https://localhost:8080/",
          "height": 72
        },
        "outputId": "e9ef5318-7cbd-4970-ae96-d06076322257"
      },
      "cell_type": "code",
      "source": [
        "!ls '/content/drive/My Drive/data'"
      ],
      "execution_count": 44,
      "outputs": [
        {
          "output_type": "stream",
          "text": [
            "amzn.csv     ex1.csv  goog.xls\t   out2.csv  pg.csv\t vote.csv\n",
            "btc-eur.csv  ex2.csv  nhl1617.txt  out3.csv  sie.de.csv  votingbehavior.txt\n",
            "dji.csv      ex3.csv  out1.csv\t   pfe.csv   tab.txt\n"
          ],
          "name": "stdout"
        }
      ]
    },
    {
      "metadata": {
        "id": "KhkeI8wnc_A0",
        "colab_type": "code",
        "colab": {
          "base_uri": "https://localhost:8080/",
          "height": 237
        },
        "outputId": "a95839a8-56b5-4d29-98bb-5c9c9878f445"
      },
      "cell_type": "code",
      "source": [
        "amazon = pd.read_csv('drive/My Drive/data/amzn.csv', \\\n",
        "                    index_col=0, parse_dates=True)\n",
        "amazon.head()"
      ],
      "execution_count": 48,
      "outputs": [
        {
          "output_type": "execute_result",
          "data": {
            "text/html": [
              "<div>\n",
              "<style scoped>\n",
              "    .dataframe tbody tr th:only-of-type {\n",
              "        vertical-align: middle;\n",
              "    }\n",
              "\n",
              "    .dataframe tbody tr th {\n",
              "        vertical-align: top;\n",
              "    }\n",
              "\n",
              "    .dataframe thead th {\n",
              "        text-align: right;\n",
              "    }\n",
              "</style>\n",
              "<table border=\"1\" class=\"dataframe\">\n",
              "  <thead>\n",
              "    <tr style=\"text-align: right;\">\n",
              "      <th></th>\n",
              "      <th>Open</th>\n",
              "      <th>High</th>\n",
              "      <th>Low</th>\n",
              "      <th>Close</th>\n",
              "      <th>Adj Close</th>\n",
              "      <th>Volume</th>\n",
              "    </tr>\n",
              "    <tr>\n",
              "      <th>Date</th>\n",
              "      <th></th>\n",
              "      <th></th>\n",
              "      <th></th>\n",
              "      <th></th>\n",
              "      <th></th>\n",
              "      <th></th>\n",
              "    </tr>\n",
              "  </thead>\n",
              "  <tbody>\n",
              "    <tr>\n",
              "      <th>2017-02-23</th>\n",
              "      <td>857.570007</td>\n",
              "      <td>860.859985</td>\n",
              "      <td>848.000000</td>\n",
              "      <td>852.190002</td>\n",
              "      <td>852.190002</td>\n",
              "      <td>3462000</td>\n",
              "    </tr>\n",
              "    <tr>\n",
              "      <th>2017-02-24</th>\n",
              "      <td>844.690002</td>\n",
              "      <td>845.809998</td>\n",
              "      <td>837.750000</td>\n",
              "      <td>845.239990</td>\n",
              "      <td>845.239990</td>\n",
              "      <td>3688000</td>\n",
              "    </tr>\n",
              "    <tr>\n",
              "      <th>2017-02-27</th>\n",
              "      <td>842.380005</td>\n",
              "      <td>852.500000</td>\n",
              "      <td>839.669983</td>\n",
              "      <td>848.640015</td>\n",
              "      <td>848.640015</td>\n",
              "      <td>2713600</td>\n",
              "    </tr>\n",
              "    <tr>\n",
              "      <th>2017-02-28</th>\n",
              "      <td>851.450012</td>\n",
              "      <td>854.090027</td>\n",
              "      <td>842.049988</td>\n",
              "      <td>845.039978</td>\n",
              "      <td>845.039978</td>\n",
              "      <td>2793700</td>\n",
              "    </tr>\n",
              "    <tr>\n",
              "      <th>2017-03-01</th>\n",
              "      <td>853.049988</td>\n",
              "      <td>854.830017</td>\n",
              "      <td>849.010010</td>\n",
              "      <td>853.080017</td>\n",
              "      <td>853.080017</td>\n",
              "      <td>2760100</td>\n",
              "    </tr>\n",
              "  </tbody>\n",
              "</table>\n",
              "</div>"
            ],
            "text/plain": [
              "                  Open        High         Low       Close   Adj Close  \\\n",
              "Date                                                                     \n",
              "2017-02-23  857.570007  860.859985  848.000000  852.190002  852.190002   \n",
              "2017-02-24  844.690002  845.809998  837.750000  845.239990  845.239990   \n",
              "2017-02-27  842.380005  852.500000  839.669983  848.640015  848.640015   \n",
              "2017-02-28  851.450012  854.090027  842.049988  845.039978  845.039978   \n",
              "2017-03-01  853.049988  854.830017  849.010010  853.080017  853.080017   \n",
              "\n",
              "             Volume  \n",
              "Date                 \n",
              "2017-02-23  3462000  \n",
              "2017-02-24  3688000  \n",
              "2017-02-27  2713600  \n",
              "2017-02-28  2793700  \n",
              "2017-03-01  2760100  "
            ]
          },
          "metadata": {
            "tags": []
          },
          "execution_count": 48
        }
      ]
    },
    {
      "metadata": {
        "id": "OoT6V96AdP7Z",
        "colab_type": "code",
        "colab": {
          "base_uri": "https://localhost:8080/",
          "height": 237
        },
        "outputId": "39cae05e-3e03-4c75-d139-d2645e715a30"
      },
      "cell_type": "code",
      "source": [
        "dow = pd.read_csv('drive/My Drive/data/dji.csv', \\\n",
        "                 index_col=0, parse_dates=True)\n",
        "dow.head()"
      ],
      "execution_count": 47,
      "outputs": [
        {
          "output_type": "execute_result",
          "data": {
            "text/html": [
              "<div>\n",
              "<style scoped>\n",
              "    .dataframe tbody tr th:only-of-type {\n",
              "        vertical-align: middle;\n",
              "    }\n",
              "\n",
              "    .dataframe tbody tr th {\n",
              "        vertical-align: top;\n",
              "    }\n",
              "\n",
              "    .dataframe thead th {\n",
              "        text-align: right;\n",
              "    }\n",
              "</style>\n",
              "<table border=\"1\" class=\"dataframe\">\n",
              "  <thead>\n",
              "    <tr style=\"text-align: right;\">\n",
              "      <th></th>\n",
              "      <th>Open</th>\n",
              "      <th>High</th>\n",
              "      <th>Low</th>\n",
              "      <th>Close</th>\n",
              "      <th>Adj Close</th>\n",
              "      <th>Volume</th>\n",
              "    </tr>\n",
              "    <tr>\n",
              "      <th>Date</th>\n",
              "      <th></th>\n",
              "      <th></th>\n",
              "      <th></th>\n",
              "      <th></th>\n",
              "      <th></th>\n",
              "      <th></th>\n",
              "    </tr>\n",
              "  </thead>\n",
              "  <tbody>\n",
              "    <tr>\n",
              "      <th>2005-01-28</th>\n",
              "      <td>10470.580078</td>\n",
              "      <td>10488.389648</td>\n",
              "      <td>10386.559570</td>\n",
              "      <td>10427.200195</td>\n",
              "      <td>10427.200195</td>\n",
              "      <td>358720000</td>\n",
              "    </tr>\n",
              "    <tr>\n",
              "      <th>2005-01-31</th>\n",
              "      <td>10428.759766</td>\n",
              "      <td>10510.190430</td>\n",
              "      <td>10428.759766</td>\n",
              "      <td>10489.940430</td>\n",
              "      <td>10489.940430</td>\n",
              "      <td>298060000</td>\n",
              "    </tr>\n",
              "    <tr>\n",
              "      <th>2005-02-01</th>\n",
              "      <td>10489.719727</td>\n",
              "      <td>10570.259766</td>\n",
              "      <td>10489.639648</td>\n",
              "      <td>10551.940430</td>\n",
              "      <td>10551.940430</td>\n",
              "      <td>283800000</td>\n",
              "    </tr>\n",
              "    <tr>\n",
              "      <th>2005-02-02</th>\n",
              "      <td>10551.049805</td>\n",
              "      <td>10616.370117</td>\n",
              "      <td>10544.480469</td>\n",
              "      <td>10596.790039</td>\n",
              "      <td>10596.790039</td>\n",
              "      <td>279860000</td>\n",
              "    </tr>\n",
              "    <tr>\n",
              "      <th>2005-02-03</th>\n",
              "      <td>10592.209961</td>\n",
              "      <td>10601.150391</td>\n",
              "      <td>10550.089844</td>\n",
              "      <td>10593.099609</td>\n",
              "      <td>10593.099609</td>\n",
              "      <td>229000000</td>\n",
              "    </tr>\n",
              "  </tbody>\n",
              "</table>\n",
              "</div>"
            ],
            "text/plain": [
              "                    Open          High           Low         Close  \\\n",
              "Date                                                                 \n",
              "2005-01-28  10470.580078  10488.389648  10386.559570  10427.200195   \n",
              "2005-01-31  10428.759766  10510.190430  10428.759766  10489.940430   \n",
              "2005-02-01  10489.719727  10570.259766  10489.639648  10551.940430   \n",
              "2005-02-02  10551.049805  10616.370117  10544.480469  10596.790039   \n",
              "2005-02-03  10592.209961  10601.150391  10550.089844  10593.099609   \n",
              "\n",
              "               Adj Close     Volume  \n",
              "Date                                 \n",
              "2005-01-28  10427.200195  358720000  \n",
              "2005-01-31  10489.940430  298060000  \n",
              "2005-02-01  10551.940430  283800000  \n",
              "2005-02-02  10596.790039  279860000  \n",
              "2005-02-03  10593.099609  229000000  "
            ]
          },
          "metadata": {
            "tags": []
          },
          "execution_count": 47
        }
      ]
    },
    {
      "metadata": {
        "id": "Cg0_BVi8deQ1",
        "colab_type": "code",
        "colab": {}
      },
      "cell_type": "code",
      "source": [
        "#remove all columns except Adj Close and Volume\n",
        "amazon.drop(['Open', 'High', 'Low', 'Close'], axis=1, inplace=True)\n",
        "dow.drop(['Open', 'High', 'Low', 'Close'], axis=1, inplace=True)"
      ],
      "execution_count": 0,
      "outputs": []
    },
    {
      "metadata": {
        "id": "SI5qqECRd_RF",
        "colab_type": "code",
        "colab": {}
      },
      "cell_type": "code",
      "source": [
        "#rename columns\n",
        "amazon.rename(columns={'Adj Close': 'Amzn Adj Close',\n",
        "                      'Volume': 'Amzn Volume'}, inplace=True)\n",
        "dow.rename(columns={'Adj Close': 'Dji Adj Close',\n",
        "                   'Volume': 'Dji Volume'}, inplace=True)"
      ],
      "execution_count": 0,
      "outputs": []
    },
    {
      "metadata": {
        "id": "TzpEChjdhq4Q",
        "colab_type": "code",
        "colab": {
          "base_uri": "https://localhost:8080/",
          "height": 237
        },
        "outputId": "19082115-1393-4352-bd44-58485cd9cae8"
      },
      "cell_type": "code",
      "source": [
        "amazon.head()"
      ],
      "execution_count": 63,
      "outputs": [
        {
          "output_type": "execute_result",
          "data": {
            "text/html": [
              "<div>\n",
              "<style scoped>\n",
              "    .dataframe tbody tr th:only-of-type {\n",
              "        vertical-align: middle;\n",
              "    }\n",
              "\n",
              "    .dataframe tbody tr th {\n",
              "        vertical-align: top;\n",
              "    }\n",
              "\n",
              "    .dataframe thead th {\n",
              "        text-align: right;\n",
              "    }\n",
              "</style>\n",
              "<table border=\"1\" class=\"dataframe\">\n",
              "  <thead>\n",
              "    <tr style=\"text-align: right;\">\n",
              "      <th></th>\n",
              "      <th>Amzn Adj Close</th>\n",
              "      <th>Amzn Volume</th>\n",
              "    </tr>\n",
              "    <tr>\n",
              "      <th>Date</th>\n",
              "      <th></th>\n",
              "      <th></th>\n",
              "    </tr>\n",
              "  </thead>\n",
              "  <tbody>\n",
              "    <tr>\n",
              "      <th>2017-02-23</th>\n",
              "      <td>852.190002</td>\n",
              "      <td>3462000</td>\n",
              "    </tr>\n",
              "    <tr>\n",
              "      <th>2017-02-24</th>\n",
              "      <td>845.239990</td>\n",
              "      <td>3688000</td>\n",
              "    </tr>\n",
              "    <tr>\n",
              "      <th>2017-02-27</th>\n",
              "      <td>848.640015</td>\n",
              "      <td>2713600</td>\n",
              "    </tr>\n",
              "    <tr>\n",
              "      <th>2017-02-28</th>\n",
              "      <td>845.039978</td>\n",
              "      <td>2793700</td>\n",
              "    </tr>\n",
              "    <tr>\n",
              "      <th>2017-03-01</th>\n",
              "      <td>853.080017</td>\n",
              "      <td>2760100</td>\n",
              "    </tr>\n",
              "  </tbody>\n",
              "</table>\n",
              "</div>"
            ],
            "text/plain": [
              "            Amzn Adj Close  Amzn Volume\n",
              "Date                                   \n",
              "2017-02-23      852.190002      3462000\n",
              "2017-02-24      845.239990      3688000\n",
              "2017-02-27      848.640015      2713600\n",
              "2017-02-28      845.039978      2793700\n",
              "2017-03-01      853.080017      2760100"
            ]
          },
          "metadata": {
            "tags": []
          },
          "execution_count": 63
        }
      ]
    },
    {
      "metadata": {
        "id": "E0sP1JrYigE_",
        "colab_type": "code",
        "colab": {
          "base_uri": "https://localhost:8080/",
          "height": 237
        },
        "outputId": "1637f7ec-8bae-46b8-a2e2-ad90fcc7eed5"
      },
      "cell_type": "code",
      "source": [
        "dow.head()"
      ],
      "execution_count": 64,
      "outputs": [
        {
          "output_type": "execute_result",
          "data": {
            "text/html": [
              "<div>\n",
              "<style scoped>\n",
              "    .dataframe tbody tr th:only-of-type {\n",
              "        vertical-align: middle;\n",
              "    }\n",
              "\n",
              "    .dataframe tbody tr th {\n",
              "        vertical-align: top;\n",
              "    }\n",
              "\n",
              "    .dataframe thead th {\n",
              "        text-align: right;\n",
              "    }\n",
              "</style>\n",
              "<table border=\"1\" class=\"dataframe\">\n",
              "  <thead>\n",
              "    <tr style=\"text-align: right;\">\n",
              "      <th></th>\n",
              "      <th>Dji Adj Close</th>\n",
              "      <th>Dji Volume</th>\n",
              "    </tr>\n",
              "    <tr>\n",
              "      <th>Date</th>\n",
              "      <th></th>\n",
              "      <th></th>\n",
              "    </tr>\n",
              "  </thead>\n",
              "  <tbody>\n",
              "    <tr>\n",
              "      <th>2005-01-28</th>\n",
              "      <td>10427.200195</td>\n",
              "      <td>358720000</td>\n",
              "    </tr>\n",
              "    <tr>\n",
              "      <th>2005-01-31</th>\n",
              "      <td>10489.940430</td>\n",
              "      <td>298060000</td>\n",
              "    </tr>\n",
              "    <tr>\n",
              "      <th>2005-02-01</th>\n",
              "      <td>10551.940430</td>\n",
              "      <td>283800000</td>\n",
              "    </tr>\n",
              "    <tr>\n",
              "      <th>2005-02-02</th>\n",
              "      <td>10596.790039</td>\n",
              "      <td>279860000</td>\n",
              "    </tr>\n",
              "    <tr>\n",
              "      <th>2005-02-03</th>\n",
              "      <td>10593.099609</td>\n",
              "      <td>229000000</td>\n",
              "    </tr>\n",
              "  </tbody>\n",
              "</table>\n",
              "</div>"
            ],
            "text/plain": [
              "            Dji Adj Close  Dji Volume\n",
              "Date                                 \n",
              "2005-01-28   10427.200195   358720000\n",
              "2005-01-31   10489.940430   298060000\n",
              "2005-02-01   10551.940430   283800000\n",
              "2005-02-02   10596.790039   279860000\n",
              "2005-02-03   10593.099609   229000000"
            ]
          },
          "metadata": {
            "tags": []
          },
          "execution_count": 64
        }
      ]
    },
    {
      "metadata": {
        "id": "fndgtysfik93",
        "colab_type": "text"
      },
      "cell_type": "markdown",
      "source": [
        "## Exercise 4: Performances\n",
        "1. Concatenate both DataFrames along the _Date_ (rows) axis.\n",
        "1. Remove all rows which contain no data for Amazon.\n",
        "1. Let _Adj Close_ (2017-02-23) be the reference price (the base). Add two columns which give the _Adj Close_ as a percentage of the reference price.\n",
        "1. Add a column that contains the 10-days-rolling-correlation between the _Adj Close_ of Amazon and the Dji.\n",
        "1. Calculate the mean of the correlation columns."
      ]
    },
    {
      "metadata": {
        "id": "P8E3LTkKihNt",
        "colab_type": "code",
        "colab": {
          "base_uri": "https://localhost:8080/",
          "height": 237
        },
        "outputId": "087ca7f9-b6b1-4f53-d9a4-ac3404f96c52"
      },
      "cell_type": "code",
      "source": [
        "#concatenate both dfs\n",
        "all_data = pd.concat([amazon, dow], axis=1)\n",
        "all_data.head()"
      ],
      "execution_count": 65,
      "outputs": [
        {
          "output_type": "execute_result",
          "data": {
            "text/html": [
              "<div>\n",
              "<style scoped>\n",
              "    .dataframe tbody tr th:only-of-type {\n",
              "        vertical-align: middle;\n",
              "    }\n",
              "\n",
              "    .dataframe tbody tr th {\n",
              "        vertical-align: top;\n",
              "    }\n",
              "\n",
              "    .dataframe thead th {\n",
              "        text-align: right;\n",
              "    }\n",
              "</style>\n",
              "<table border=\"1\" class=\"dataframe\">\n",
              "  <thead>\n",
              "    <tr style=\"text-align: right;\">\n",
              "      <th></th>\n",
              "      <th>Amzn Adj Close</th>\n",
              "      <th>Amzn Volume</th>\n",
              "      <th>Dji Adj Close</th>\n",
              "      <th>Dji Volume</th>\n",
              "    </tr>\n",
              "    <tr>\n",
              "      <th>Date</th>\n",
              "      <th></th>\n",
              "      <th></th>\n",
              "      <th></th>\n",
              "      <th></th>\n",
              "    </tr>\n",
              "  </thead>\n",
              "  <tbody>\n",
              "    <tr>\n",
              "      <th>2005-01-28</th>\n",
              "      <td>NaN</td>\n",
              "      <td>NaN</td>\n",
              "      <td>10427.200195</td>\n",
              "      <td>358720000</td>\n",
              "    </tr>\n",
              "    <tr>\n",
              "      <th>2005-01-31</th>\n",
              "      <td>NaN</td>\n",
              "      <td>NaN</td>\n",
              "      <td>10489.940430</td>\n",
              "      <td>298060000</td>\n",
              "    </tr>\n",
              "    <tr>\n",
              "      <th>2005-02-01</th>\n",
              "      <td>NaN</td>\n",
              "      <td>NaN</td>\n",
              "      <td>10551.940430</td>\n",
              "      <td>283800000</td>\n",
              "    </tr>\n",
              "    <tr>\n",
              "      <th>2005-02-02</th>\n",
              "      <td>NaN</td>\n",
              "      <td>NaN</td>\n",
              "      <td>10596.790039</td>\n",
              "      <td>279860000</td>\n",
              "    </tr>\n",
              "    <tr>\n",
              "      <th>2005-02-03</th>\n",
              "      <td>NaN</td>\n",
              "      <td>NaN</td>\n",
              "      <td>10593.099609</td>\n",
              "      <td>229000000</td>\n",
              "    </tr>\n",
              "  </tbody>\n",
              "</table>\n",
              "</div>"
            ],
            "text/plain": [
              "            Amzn Adj Close  Amzn Volume  Dji Adj Close  Dji Volume\n",
              "Date                                                              \n",
              "2005-01-28             NaN          NaN   10427.200195   358720000\n",
              "2005-01-31             NaN          NaN   10489.940430   298060000\n",
              "2005-02-01             NaN          NaN   10551.940430   283800000\n",
              "2005-02-02             NaN          NaN   10596.790039   279860000\n",
              "2005-02-03             NaN          NaN   10593.099609   229000000"
            ]
          },
          "metadata": {
            "tags": []
          },
          "execution_count": 65
        }
      ]
    },
    {
      "metadata": {
        "id": "nhvBbVRQjwuL",
        "colab_type": "code",
        "colab": {}
      },
      "cell_type": "code",
      "source": [
        "all_data.dropna(axis=0, how='any', inplace=True)"
      ],
      "execution_count": 0,
      "outputs": []
    },
    {
      "metadata": {
        "id": "S8iqszELj7v-",
        "colab_type": "code",
        "colab": {
          "base_uri": "https://localhost:8080/",
          "height": 237
        },
        "outputId": "dec9e5cd-e0e5-4dff-bfdd-9bf57e393b96"
      },
      "cell_type": "code",
      "source": [
        "all_data.head()"
      ],
      "execution_count": 67,
      "outputs": [
        {
          "output_type": "execute_result",
          "data": {
            "text/html": [
              "<div>\n",
              "<style scoped>\n",
              "    .dataframe tbody tr th:only-of-type {\n",
              "        vertical-align: middle;\n",
              "    }\n",
              "\n",
              "    .dataframe tbody tr th {\n",
              "        vertical-align: top;\n",
              "    }\n",
              "\n",
              "    .dataframe thead th {\n",
              "        text-align: right;\n",
              "    }\n",
              "</style>\n",
              "<table border=\"1\" class=\"dataframe\">\n",
              "  <thead>\n",
              "    <tr style=\"text-align: right;\">\n",
              "      <th></th>\n",
              "      <th>Amzn Adj Close</th>\n",
              "      <th>Amzn Volume</th>\n",
              "      <th>Dji Adj Close</th>\n",
              "      <th>Dji Volume</th>\n",
              "    </tr>\n",
              "    <tr>\n",
              "      <th>Date</th>\n",
              "      <th></th>\n",
              "      <th></th>\n",
              "      <th></th>\n",
              "      <th></th>\n",
              "    </tr>\n",
              "  </thead>\n",
              "  <tbody>\n",
              "    <tr>\n",
              "      <th>2017-02-23</th>\n",
              "      <td>852.190002</td>\n",
              "      <td>3462000.0</td>\n",
              "      <td>20810.320313</td>\n",
              "      <td>302110000</td>\n",
              "    </tr>\n",
              "    <tr>\n",
              "      <th>2017-02-24</th>\n",
              "      <td>845.239990</td>\n",
              "      <td>3688000.0</td>\n",
              "      <td>20821.759766</td>\n",
              "      <td>292540000</td>\n",
              "    </tr>\n",
              "    <tr>\n",
              "      <th>2017-02-27</th>\n",
              "      <td>848.640015</td>\n",
              "      <td>2713600.0</td>\n",
              "      <td>20837.439453</td>\n",
              "      <td>256540000</td>\n",
              "    </tr>\n",
              "    <tr>\n",
              "      <th>2017-02-28</th>\n",
              "      <td>845.039978</td>\n",
              "      <td>2793700.0</td>\n",
              "      <td>20812.240234</td>\n",
              "      <td>339210000</td>\n",
              "    </tr>\n",
              "    <tr>\n",
              "      <th>2017-03-01</th>\n",
              "      <td>853.080017</td>\n",
              "      <td>2760100.0</td>\n",
              "      <td>21115.550781</td>\n",
              "      <td>392820000</td>\n",
              "    </tr>\n",
              "  </tbody>\n",
              "</table>\n",
              "</div>"
            ],
            "text/plain": [
              "            Amzn Adj Close  Amzn Volume  Dji Adj Close  Dji Volume\n",
              "Date                                                              \n",
              "2017-02-23      852.190002    3462000.0   20810.320313   302110000\n",
              "2017-02-24      845.239990    3688000.0   20821.759766   292540000\n",
              "2017-02-27      848.640015    2713600.0   20837.439453   256540000\n",
              "2017-02-28      845.039978    2793700.0   20812.240234   339210000\n",
              "2017-03-01      853.080017    2760100.0   21115.550781   392820000"
            ]
          },
          "metadata": {
            "tags": []
          },
          "execution_count": 67
        }
      ]
    },
    {
      "metadata": {
        "id": "rdB0tmX0kG0-",
        "colab_type": "code",
        "colab": {}
      },
      "cell_type": "code",
      "source": [
        "all_data['Amzn Percentage'] = all_data['Amzn Adj Close'] / \\\n",
        "                              all_data['Amzn Adj Close'][0] * 100\n",
        "all_data['Dji Percentage'] = all_data['Dji Adj Close'] / \\\n",
        "                              all_data['Dji Adj Close'][0] * 100"
      ],
      "execution_count": 0,
      "outputs": []
    },
    {
      "metadata": {
        "id": "3USfalEJkXjp",
        "colab_type": "code",
        "colab": {
          "base_uri": "https://localhost:8080/",
          "height": 237
        },
        "outputId": "fc3bf99a-1652-4ecd-c2f0-25a5816fcbb5"
      },
      "cell_type": "code",
      "source": [
        "all_data['Corr'] = all_data['Amzn Adj Close'].rolling(window=10).\\\n",
        "                        corr(all_data['Dji Adj Close'])\n",
        "all_data.tail()"
      ],
      "execution_count": 73,
      "outputs": [
        {
          "output_type": "execute_result",
          "data": {
            "text/html": [
              "<div>\n",
              "<style scoped>\n",
              "    .dataframe tbody tr th:only-of-type {\n",
              "        vertical-align: middle;\n",
              "    }\n",
              "\n",
              "    .dataframe tbody tr th {\n",
              "        vertical-align: top;\n",
              "    }\n",
              "\n",
              "    .dataframe thead th {\n",
              "        text-align: right;\n",
              "    }\n",
              "</style>\n",
              "<table border=\"1\" class=\"dataframe\">\n",
              "  <thead>\n",
              "    <tr style=\"text-align: right;\">\n",
              "      <th></th>\n",
              "      <th>Amzn Adj Close</th>\n",
              "      <th>Amzn Volume</th>\n",
              "      <th>Dji Adj Close</th>\n",
              "      <th>Dji Volume</th>\n",
              "      <th>Amzn Percentage</th>\n",
              "      <th>Dji Percentage</th>\n",
              "      <th>Corr</th>\n",
              "    </tr>\n",
              "    <tr>\n",
              "      <th>Date</th>\n",
              "      <th></th>\n",
              "      <th></th>\n",
              "      <th></th>\n",
              "      <th></th>\n",
              "      <th></th>\n",
              "      <th></th>\n",
              "      <th></th>\n",
              "    </tr>\n",
              "  </thead>\n",
              "  <tbody>\n",
              "    <tr>\n",
              "      <th>2018-02-15</th>\n",
              "      <td>1461.760010</td>\n",
              "      <td>5652700.0</td>\n",
              "      <td>25200.369141</td>\n",
              "      <td>416780000</td>\n",
              "      <td>171.529824</td>\n",
              "      <td>121.095537</td>\n",
              "      <td>0.846254</td>\n",
              "    </tr>\n",
              "    <tr>\n",
              "      <th>2018-02-16</th>\n",
              "      <td>1448.689941</td>\n",
              "      <td>4472600.0</td>\n",
              "      <td>25219.380859</td>\n",
              "      <td>406730000</td>\n",
              "      <td>169.996120</td>\n",
              "      <td>121.186894</td>\n",
              "      <td>0.929678</td>\n",
              "    </tr>\n",
              "    <tr>\n",
              "      <th>2018-02-20</th>\n",
              "      <td>1468.349976</td>\n",
              "      <td>6499200.0</td>\n",
              "      <td>24964.750000</td>\n",
              "      <td>421510000</td>\n",
              "      <td>172.303122</td>\n",
              "      <td>119.963314</td>\n",
              "      <td>0.915655</td>\n",
              "    </tr>\n",
              "    <tr>\n",
              "      <th>2018-02-21</th>\n",
              "      <td>1482.920044</td>\n",
              "      <td>6304400.0</td>\n",
              "      <td>24797.779297</td>\n",
              "      <td>456070000</td>\n",
              "      <td>174.012842</td>\n",
              "      <td>119.160969</td>\n",
              "      <td>0.849372</td>\n",
              "    </tr>\n",
              "    <tr>\n",
              "      <th>2018-02-22</th>\n",
              "      <td>1485.339966</td>\n",
              "      <td>4792400.0</td>\n",
              "      <td>24962.480469</td>\n",
              "      <td>378900000</td>\n",
              "      <td>174.296807</td>\n",
              "      <td>119.952409</td>\n",
              "      <td>0.856919</td>\n",
              "    </tr>\n",
              "  </tbody>\n",
              "</table>\n",
              "</div>"
            ],
            "text/plain": [
              "            Amzn Adj Close  Amzn Volume  Dji Adj Close  Dji Volume  \\\n",
              "Date                                                                 \n",
              "2018-02-15     1461.760010    5652700.0   25200.369141   416780000   \n",
              "2018-02-16     1448.689941    4472600.0   25219.380859   406730000   \n",
              "2018-02-20     1468.349976    6499200.0   24964.750000   421510000   \n",
              "2018-02-21     1482.920044    6304400.0   24797.779297   456070000   \n",
              "2018-02-22     1485.339966    4792400.0   24962.480469   378900000   \n",
              "\n",
              "            Amzn Percentage  Dji Percentage      Corr  \n",
              "Date                                                   \n",
              "2018-02-15       171.529824      121.095537  0.846254  \n",
              "2018-02-16       169.996120      121.186894  0.929678  \n",
              "2018-02-20       172.303122      119.963314  0.915655  \n",
              "2018-02-21       174.012842      119.160969  0.849372  \n",
              "2018-02-22       174.296807      119.952409  0.856919  "
            ]
          },
          "metadata": {
            "tags": []
          },
          "execution_count": 73
        }
      ]
    },
    {
      "metadata": {
        "id": "x5cLeLhXlITS",
        "colab_type": "code",
        "colab": {
          "base_uri": "https://localhost:8080/",
          "height": 35
        },
        "outputId": "45b2fb06-3724-428c-c29e-25781726c028"
      },
      "cell_type": "code",
      "source": [
        "all_data['Corr'].mean()"
      ],
      "execution_count": 74,
      "outputs": [
        {
          "output_type": "execute_result",
          "data": {
            "text/plain": [
              "0.36462402245193826"
            ]
          },
          "metadata": {
            "tags": []
          },
          "execution_count": 74
        }
      ]
    },
    {
      "metadata": {
        "id": "Ctw42_cols4h",
        "colab_type": "text"
      },
      "cell_type": "markdown",
      "source": [
        "## Exercise 5: Simple trading algorithm\n",
        "Consider the Amazon DataFrame.\n",
        " \n",
        "1. Add two columns containing the upper and lower Bollinger Band (10-days-rolling-mean +/- standard deviation of the 10-days-rolling-mean).\n",
        "2. Add a column which says `BUY` if the _Adj Close_ breaks through the lower band (coming from below the lower band) and says `SELL` if the _Adj Close_ falls below the upper band (coming from above the upper band).\n",
        "3. Write a function that you provide with an initial investment and that computes the total return of investment based on the signals `BUY` and `SELL`.\n",
        "     1. Specify the amount of money to invest at the beginning.\n",
        "     1. At every `BUY` signal, you spend the total amount of your money to buy Amazon stocks.\n",
        "     1. At every `SELL` signal, you sell all stocks again.\n",
        "     1. At the end of the full period, compute the total return.\n",
        "\n",
        "\n",
        "\n"
      ]
    },
    {
      "metadata": {
        "id": "_Kl8piMRlPKP",
        "colab_type": "code",
        "colab": {}
      },
      "cell_type": "code",
      "source": [
        "#importing the required libraries\n",
        "from datetime import datetime, timedelta\n",
        "import numpy as np\n",
        "import matplotlib.pyplot as plt"
      ],
      "execution_count": 0,
      "outputs": []
    },
    {
      "metadata": {
        "id": "BA_aXHKjnk4W",
        "colab_type": "code",
        "colab": {
          "base_uri": "https://localhost:8080/",
          "height": 342
        },
        "outputId": "050aaaaf-eaed-4c4e-fc1e-8bdf119bf892"
      },
      "cell_type": "code",
      "source": [
        "#bollinger bands\n",
        "amazon['Rolling'] = amazon['Amzn Adj Close'].rolling(window=10).mean()\n",
        "amazon['Std'] = amazon['Amzn Adj Close'].rolling(window=10).std()\n",
        "amazon['Upper'] = amazon['Rolling'] + amazon['Std']\n",
        "amazon['Lower'] = amazon['Rolling'] - amazon['Std']\n",
        "\n",
        "amazon[['Lower', 'Amzn Adj Close', 'Upper']].plot(figsize=(10, 5))"
      ],
      "execution_count": 80,
      "outputs": [
        {
          "output_type": "execute_result",
          "data": {
            "text/plain": [
              "<matplotlib.axes._subplots.AxesSubplot at 0x7fd641697ac8>"
            ]
          },
          "metadata": {
            "tags": []
          },
          "execution_count": 80
        },
        {
          "output_type": "display_data",
          "data": {
            "image/png": "[encoded data removed]",
            "text/plain": [
              "<matplotlib.figure.Figure at 0x7fd6415ff0f0>"
            ]
          },
          "metadata": {
            "tags": []
          }
        }
      ]
    },
    {
      "metadata": {
        "id": "ezNc0Mp_9-F4",
        "colab_type": "code",
        "colab": {}
      },
      "cell_type": "code",
      "source": [
        "#buy and sell signals\n",
        "for i in range(1, len(amazon.index)):\n",
        "    if amazon['Amzn Adj Close'][i] > amazon['Lower'][i] and \\\n",
        "        amazon['Amzn Adj Close'][i-1] < amazon['Lower'][i-1]:\n",
        "        amazon.at[amazon.index[i], 'Trade'] = 'BUY'\n",
        "    \n",
        "    if amazon['Amzn Adj Close'][i] < amazon['Upper'][i] and \\\n",
        "        amazon['Amzn Adj Close'][i-1] > amazon['Upper'][i-1]:\n",
        "        amazon.at[amazon.index[i], 'Trade'] = 'SELL'"
      ],
      "execution_count": 0,
      "outputs": []
    },
    {
      "metadata": {
        "id": "TbAZ04Uk_zmx",
        "colab_type": "code",
        "colab": {
          "base_uri": "https://localhost:8080/",
          "height": 708
        },
        "outputId": "bc7eb3c2-99f6-47a4-cc2e-f523b2500d58"
      },
      "cell_type": "code",
      "source": [
        "amazon.head(20)"
      ],
      "execution_count": 82,
      "outputs": [
        {
          "output_type": "execute_result",
          "data": {
            "text/html": [
              "<div>\n",
              "<style scoped>\n",
              "    .dataframe tbody tr th:only-of-type {\n",
              "        vertical-align: middle;\n",
              "    }\n",
              "\n",
              "    .dataframe tbody tr th {\n",
              "        vertical-align: top;\n",
              "    }\n",
              "\n",
              "    .dataframe thead th {\n",
              "        text-align: right;\n",
              "    }\n",
              "</style>\n",
              "<table border=\"1\" class=\"dataframe\">\n",
              "  <thead>\n",
              "    <tr style=\"text-align: right;\">\n",
              "      <th></th>\n",
              "      <th>Amzn Adj Close</th>\n",
              "      <th>Amzn Volume</th>\n",
              "      <th>Rolling</th>\n",
              "      <th>Std</th>\n",
              "      <th>Upper</th>\n",
              "      <th>Lower</th>\n",
              "      <th>Trade</th>\n",
              "    </tr>\n",
              "    <tr>\n",
              "      <th>Date</th>\n",
              "      <th></th>\n",
              "      <th></th>\n",
              "      <th></th>\n",
              "      <th></th>\n",
              "      <th></th>\n",
              "      <th></th>\n",
              "      <th></th>\n",
              "    </tr>\n",
              "  </thead>\n",
              "  <tbody>\n",
              "    <tr>\n",
              "      <th>2017-02-23</th>\n",
              "      <td>852.190002</td>\n",
              "      <td>3462000</td>\n",
              "      <td>NaN</td>\n",
              "      <td>NaN</td>\n",
              "      <td>NaN</td>\n",
              "      <td>NaN</td>\n",
              "      <td>NaN</td>\n",
              "    </tr>\n",
              "    <tr>\n",
              "      <th>2017-02-24</th>\n",
              "      <td>845.239990</td>\n",
              "      <td>3688000</td>\n",
              "      <td>NaN</td>\n",
              "      <td>NaN</td>\n",
              "      <td>NaN</td>\n",
              "      <td>NaN</td>\n",
              "      <td>NaN</td>\n",
              "    </tr>\n",
              "    <tr>\n",
              "      <th>2017-02-27</th>\n",
              "      <td>848.640015</td>\n",
              "      <td>2713600</td>\n",
              "      <td>NaN</td>\n",
              "      <td>NaN</td>\n",
              "      <td>NaN</td>\n",
              "      <td>NaN</td>\n",
              "      <td>NaN</td>\n",
              "    </tr>\n",
              "    <tr>\n",
              "      <th>2017-02-28</th>\n",
              "      <td>845.039978</td>\n",
              "      <td>2793700</td>\n",
              "      <td>NaN</td>\n",
              "      <td>NaN</td>\n",
              "      <td>NaN</td>\n",
              "      <td>NaN</td>\n",
              "      <td>NaN</td>\n",
              "    </tr>\n",
              "    <tr>\n",
              "      <th>2017-03-01</th>\n",
              "      <td>853.080017</td>\n",
              "      <td>2760100</td>\n",
              "      <td>NaN</td>\n",
              "      <td>NaN</td>\n",
              "      <td>NaN</td>\n",
              "      <td>NaN</td>\n",
              "      <td>NaN</td>\n",
              "    </tr>\n",
              "    <tr>\n",
              "      <th>2017-03-02</th>\n",
              "      <td>848.909973</td>\n",
              "      <td>2132100</td>\n",
              "      <td>NaN</td>\n",
              "      <td>NaN</td>\n",
              "      <td>NaN</td>\n",
              "      <td>NaN</td>\n",
              "      <td>NaN</td>\n",
              "    </tr>\n",
              "    <tr>\n",
              "      <th>2017-03-03</th>\n",
              "      <td>849.880005</td>\n",
              "      <td>1941100</td>\n",
              "      <td>NaN</td>\n",
              "      <td>NaN</td>\n",
              "      <td>NaN</td>\n",
              "      <td>NaN</td>\n",
              "      <td>NaN</td>\n",
              "    </tr>\n",
              "    <tr>\n",
              "      <th>2017-03-06</th>\n",
              "      <td>846.609985</td>\n",
              "      <td>2610400</td>\n",
              "      <td>NaN</td>\n",
              "      <td>NaN</td>\n",
              "      <td>NaN</td>\n",
              "      <td>NaN</td>\n",
              "      <td>NaN</td>\n",
              "    </tr>\n",
              "    <tr>\n",
              "      <th>2017-03-07</th>\n",
              "      <td>846.020020</td>\n",
              "      <td>2247600</td>\n",
              "      <td>NaN</td>\n",
              "      <td>NaN</td>\n",
              "      <td>NaN</td>\n",
              "      <td>NaN</td>\n",
              "      <td>NaN</td>\n",
              "    </tr>\n",
              "    <tr>\n",
              "      <th>2017-03-08</th>\n",
              "      <td>850.500000</td>\n",
              "      <td>2286500</td>\n",
              "      <td>848.610998</td>\n",
              "      <td>2.845727</td>\n",
              "      <td>851.456725</td>\n",
              "      <td>845.765272</td>\n",
              "      <td>NaN</td>\n",
              "    </tr>\n",
              "    <tr>\n",
              "      <th>2017-03-09</th>\n",
              "      <td>853.000000</td>\n",
              "      <td>2048200</td>\n",
              "      <td>848.691998</td>\n",
              "      <td>2.967825</td>\n",
              "      <td>851.659824</td>\n",
              "      <td>845.724173</td>\n",
              "      <td>NaN</td>\n",
              "    </tr>\n",
              "    <tr>\n",
              "      <th>2017-03-10</th>\n",
              "      <td>852.460022</td>\n",
              "      <td>2436400</td>\n",
              "      <td>849.414001</td>\n",
              "      <td>2.912438</td>\n",
              "      <td>852.326439</td>\n",
              "      <td>846.501564</td>\n",
              "      <td>NaN</td>\n",
              "    </tr>\n",
              "    <tr>\n",
              "      <th>2017-03-13</th>\n",
              "      <td>854.590027</td>\n",
              "      <td>1909700</td>\n",
              "      <td>850.009003</td>\n",
              "      <td>3.316500</td>\n",
              "      <td>853.325503</td>\n",
              "      <td>846.692502</td>\n",
              "      <td>NaN</td>\n",
              "    </tr>\n",
              "    <tr>\n",
              "      <th>2017-03-14</th>\n",
              "      <td>852.530029</td>\n",
              "      <td>2130600</td>\n",
              "      <td>850.758008</td>\n",
              "      <td>2.887653</td>\n",
              "      <td>853.645661</td>\n",
              "      <td>847.870355</td>\n",
              "      <td>SELL</td>\n",
              "    </tr>\n",
              "    <tr>\n",
              "      <th>2017-03-15</th>\n",
              "      <td>852.969971</td>\n",
              "      <td>2562200</td>\n",
              "      <td>850.747003</td>\n",
              "      <td>2.878014</td>\n",
              "      <td>853.625017</td>\n",
              "      <td>847.868989</td>\n",
              "      <td>NaN</td>\n",
              "    </tr>\n",
              "    <tr>\n",
              "      <th>2017-03-16</th>\n",
              "      <td>853.419983</td>\n",
              "      <td>1842300</td>\n",
              "      <td>851.198004</td>\n",
              "      <td>2.911334</td>\n",
              "      <td>854.109339</td>\n",
              "      <td>848.286670</td>\n",
              "      <td>NaN</td>\n",
              "    </tr>\n",
              "    <tr>\n",
              "      <th>2017-03-17</th>\n",
              "      <td>852.309998</td>\n",
              "      <td>3384400</td>\n",
              "      <td>851.441003</td>\n",
              "      <td>2.890439</td>\n",
              "      <td>854.331442</td>\n",
              "      <td>848.550565</td>\n",
              "      <td>NaN</td>\n",
              "    </tr>\n",
              "    <tr>\n",
              "      <th>2017-03-20</th>\n",
              "      <td>856.969971</td>\n",
              "      <td>2282700</td>\n",
              "      <td>852.477002</td>\n",
              "      <td>2.822323</td>\n",
              "      <td>855.299325</td>\n",
              "      <td>849.654679</td>\n",
              "      <td>NaN</td>\n",
              "    </tr>\n",
              "    <tr>\n",
              "      <th>2017-03-21</th>\n",
              "      <td>843.200012</td>\n",
              "      <td>4382900</td>\n",
              "      <td>852.195001</td>\n",
              "      <td>3.578706</td>\n",
              "      <td>855.773707</td>\n",
              "      <td>848.616295</td>\n",
              "      <td>SELL</td>\n",
              "    </tr>\n",
              "    <tr>\n",
              "      <th>2017-03-22</th>\n",
              "      <td>848.059998</td>\n",
              "      <td>2658700</td>\n",
              "      <td>851.951001</td>\n",
              "      <td>3.784384</td>\n",
              "      <td>855.735386</td>\n",
              "      <td>848.166617</td>\n",
              "      <td>NaN</td>\n",
              "    </tr>\n",
              "  </tbody>\n",
              "</table>\n",
              "</div>"
            ],
            "text/plain": [
              "            Amzn Adj Close  Amzn Volume     Rolling       Std       Upper  \\\n",
              "Date                                                                        \n",
              "2017-02-23      852.190002      3462000         NaN       NaN         NaN   \n",
              "2017-02-24      845.239990      3688000         NaN       NaN         NaN   \n",
              "2017-02-27      848.640015      2713600         NaN       NaN         NaN   \n",
              "2017-02-28      845.039978      2793700         NaN       NaN         NaN   \n",
              "2017-03-01      853.080017      2760100         NaN       NaN         NaN   \n",
              "2017-03-02      848.909973      2132100         NaN       NaN         NaN   \n",
              "2017-03-03      849.880005      1941100         NaN       NaN         NaN   \n",
              "2017-03-06      846.609985      2610400         NaN       NaN         NaN   \n",
              "2017-03-07      846.020020      2247600         NaN       NaN         NaN   \n",
              "2017-03-08      850.500000      2286500  848.610998  2.845727  851.456725   \n",
              "2017-03-09      853.000000      2048200  848.691998  2.967825  851.659824   \n",
              "2017-03-10      852.460022      2436400  849.414001  2.912438  852.326439   \n",
              "2017-03-13      854.590027      1909700  850.009003  3.316500  853.325503   \n",
              "2017-03-14      852.530029      2130600  850.758008  2.887653  853.645661   \n",
              "2017-03-15      852.969971      2562200  850.747003  2.878014  853.625017   \n",
              "2017-03-16      853.419983      1842300  851.198004  2.911334  854.109339   \n",
              "2017-03-17      852.309998      3384400  851.441003  2.890439  854.331442   \n",
              "2017-03-20      856.969971      2282700  852.477002  2.822323  855.299325   \n",
              "2017-03-21      843.200012      4382900  852.195001  3.578706  855.773707   \n",
              "2017-03-22      848.059998      2658700  851.951001  3.784384  855.735386   \n",
              "\n",
              "                 Lower Trade  \n",
              "Date                          \n",
              "2017-02-23         NaN   NaN  \n",
              "2017-02-24         NaN   NaN  \n",
              "2017-02-27         NaN   NaN  \n",
              "2017-02-28         NaN   NaN  \n",
              "2017-03-01         NaN   NaN  \n",
              "2017-03-02         NaN   NaN  \n",
              "2017-03-03         NaN   NaN  \n",
              "2017-03-06         NaN   NaN  \n",
              "2017-03-07         NaN   NaN  \n",
              "2017-03-08  845.765272   NaN  \n",
              "2017-03-09  845.724173   NaN  \n",
              "2017-03-10  846.501564   NaN  \n",
              "2017-03-13  846.692502   NaN  \n",
              "2017-03-14  847.870355  SELL  \n",
              "2017-03-15  847.868989   NaN  \n",
              "2017-03-16  848.286670   NaN  \n",
              "2017-03-17  848.550565   NaN  \n",
              "2017-03-20  849.654679   NaN  \n",
              "2017-03-21  848.616295  SELL  \n",
              "2017-03-22  848.166617   NaN  "
            ]
          },
          "metadata": {
            "tags": []
          },
          "execution_count": 82
        }
      ]
    },
    {
      "metadata": {
        "id": "n4DBhhZr_1xw",
        "colab_type": "code",
        "colab": {
          "base_uri": "https://localhost:8080/",
          "height": 708
        },
        "outputId": "b55e6ec8-ed96-44b0-ff25-c11440736f9c"
      },
      "cell_type": "code",
      "source": [
        "amazon.tail(20)"
      ],
      "execution_count": 83,
      "outputs": [
        {
          "output_type": "execute_result",
          "data": {
            "text/html": [
              "<div>\n",
              "<style scoped>\n",
              "    .dataframe tbody tr th:only-of-type {\n",
              "        vertical-align: middle;\n",
              "    }\n",
              "\n",
              "    .dataframe tbody tr th {\n",
              "        vertical-align: top;\n",
              "    }\n",
              "\n",
              "    .dataframe thead th {\n",
              "        text-align: right;\n",
              "    }\n",
              "</style>\n",
              "<table border=\"1\" class=\"dataframe\">\n",
              "  <thead>\n",
              "    <tr style=\"text-align: right;\">\n",
              "      <th></th>\n",
              "      <th>Amzn Adj Close</th>\n",
              "      <th>Amzn Volume</th>\n",
              "      <th>Rolling</th>\n",
              "      <th>Std</th>\n",
              "      <th>Upper</th>\n",
              "      <th>Lower</th>\n",
              "      <th>Trade</th>\n",
              "    </tr>\n",
              "    <tr>\n",
              "      <th>Date</th>\n",
              "      <th></th>\n",
              "      <th></th>\n",
              "      <th></th>\n",
              "      <th></th>\n",
              "      <th></th>\n",
              "      <th></th>\n",
              "      <th></th>\n",
              "    </tr>\n",
              "  </thead>\n",
              "  <tbody>\n",
              "    <tr>\n",
              "      <th>2018-01-25</th>\n",
              "      <td>1377.949951</td>\n",
              "      <td>4753000</td>\n",
              "      <td>1319.494995</td>\n",
              "      <td>34.854654</td>\n",
              "      <td>1354.349649</td>\n",
              "      <td>1284.640341</td>\n",
              "      <td>NaN</td>\n",
              "    </tr>\n",
              "    <tr>\n",
              "      <th>2018-01-26</th>\n",
              "      <td>1402.050049</td>\n",
              "      <td>4857300</td>\n",
              "      <td>1332.031995</td>\n",
              "      <td>39.922253</td>\n",
              "      <td>1371.954248</td>\n",
              "      <td>1292.109742</td>\n",
              "      <td>NaN</td>\n",
              "    </tr>\n",
              "    <tr>\n",
              "      <th>2018-01-29</th>\n",
              "      <td>1417.680054</td>\n",
              "      <td>5701900</td>\n",
              "      <td>1343.280005</td>\n",
              "      <td>46.779068</td>\n",
              "      <td>1390.059073</td>\n",
              "      <td>1296.500937</td>\n",
              "      <td>NaN</td>\n",
              "    </tr>\n",
              "    <tr>\n",
              "      <th>2018-01-30</th>\n",
              "      <td>1437.819946</td>\n",
              "      <td>5871900</td>\n",
              "      <td>1356.576001</td>\n",
              "      <td>53.112457</td>\n",
              "      <td>1409.688458</td>\n",
              "      <td>1303.463544</td>\n",
              "      <td>NaN</td>\n",
              "    </tr>\n",
              "    <tr>\n",
              "      <th>2018-01-31</th>\n",
              "      <td>1450.890015</td>\n",
              "      <td>6424700</td>\n",
              "      <td>1372.165003</td>\n",
              "      <td>55.838813</td>\n",
              "      <td>1428.003816</td>\n",
              "      <td>1316.326189</td>\n",
              "      <td>NaN</td>\n",
              "    </tr>\n",
              "    <tr>\n",
              "      <th>2018-02-01</th>\n",
              "      <td>1390.000000</td>\n",
              "      <td>9113800</td>\n",
              "      <td>1381.833008</td>\n",
              "      <td>48.566791</td>\n",
              "      <td>1430.399799</td>\n",
              "      <td>1333.266217</td>\n",
              "      <td>SELL</td>\n",
              "    </tr>\n",
              "    <tr>\n",
              "      <th>2018-02-02</th>\n",
              "      <td>1429.949951</td>\n",
              "      <td>11125700</td>\n",
              "      <td>1395.370007</td>\n",
              "      <td>39.578670</td>\n",
              "      <td>1434.948678</td>\n",
              "      <td>1355.791337</td>\n",
              "      <td>NaN</td>\n",
              "    </tr>\n",
              "    <tr>\n",
              "      <th>2018-02-05</th>\n",
              "      <td>1390.000000</td>\n",
              "      <td>11495000</td>\n",
              "      <td>1401.639002</td>\n",
              "      <td>31.801324</td>\n",
              "      <td>1433.440325</td>\n",
              "      <td>1369.837678</td>\n",
              "      <td>NaN</td>\n",
              "    </tr>\n",
              "    <tr>\n",
              "      <th>2018-02-06</th>\n",
              "      <td>1442.839966</td>\n",
              "      <td>11066800</td>\n",
              "      <td>1409.668994</td>\n",
              "      <td>30.958576</td>\n",
              "      <td>1440.627570</td>\n",
              "      <td>1378.710419</td>\n",
              "      <td>NaN</td>\n",
              "    </tr>\n",
              "    <tr>\n",
              "      <th>2018-02-07</th>\n",
              "      <td>1416.780029</td>\n",
              "      <td>7162700</td>\n",
              "      <td>1415.595996</td>\n",
              "      <td>24.954657</td>\n",
              "      <td>1440.550653</td>\n",
              "      <td>1390.641339</td>\n",
              "      <td>SELL</td>\n",
              "    </tr>\n",
              "    <tr>\n",
              "      <th>2018-02-08</th>\n",
              "      <td>1350.500000</td>\n",
              "      <td>8578600</td>\n",
              "      <td>1412.851001</td>\n",
              "      <td>30.458584</td>\n",
              "      <td>1443.309585</td>\n",
              "      <td>1382.392417</td>\n",
              "      <td>NaN</td>\n",
              "    </tr>\n",
              "    <tr>\n",
              "      <th>2018-02-09</th>\n",
              "      <td>1339.599976</td>\n",
              "      <td>14141500</td>\n",
              "      <td>1406.605994</td>\n",
              "      <td>38.309528</td>\n",
              "      <td>1444.915521</td>\n",
              "      <td>1368.296466</td>\n",
              "      <td>NaN</td>\n",
              "    </tr>\n",
              "    <tr>\n",
              "      <th>2018-02-12</th>\n",
              "      <td>1386.229980</td>\n",
              "      <td>6738900</td>\n",
              "      <td>1403.460986</td>\n",
              "      <td>38.589313</td>\n",
              "      <td>1442.050299</td>\n",
              "      <td>1364.871673</td>\n",
              "      <td>BUY</td>\n",
              "    </tr>\n",
              "    <tr>\n",
              "      <th>2018-02-13</th>\n",
              "      <td>1414.510010</td>\n",
              "      <td>5917900</td>\n",
              "      <td>1401.129993</td>\n",
              "      <td>36.952557</td>\n",
              "      <td>1438.082550</td>\n",
              "      <td>1364.177436</td>\n",
              "      <td>NaN</td>\n",
              "    </tr>\n",
              "    <tr>\n",
              "      <th>2018-02-14</th>\n",
              "      <td>1451.050049</td>\n",
              "      <td>5959200</td>\n",
              "      <td>1401.145996</td>\n",
              "      <td>36.976528</td>\n",
              "      <td>1438.122524</td>\n",
              "      <td>1364.169468</td>\n",
              "      <td>NaN</td>\n",
              "    </tr>\n",
              "    <tr>\n",
              "      <th>2018-02-15</th>\n",
              "      <td>1461.760010</td>\n",
              "      <td>5652700</td>\n",
              "      <td>1408.321997</td>\n",
              "      <td>41.285252</td>\n",
              "      <td>1449.607249</td>\n",
              "      <td>1367.036745</td>\n",
              "      <td>NaN</td>\n",
              "    </tr>\n",
              "    <tr>\n",
              "      <th>2018-02-16</th>\n",
              "      <td>1448.689941</td>\n",
              "      <td>4472600</td>\n",
              "      <td>1410.195996</td>\n",
              "      <td>42.774515</td>\n",
              "      <td>1452.970511</td>\n",
              "      <td>1367.421481</td>\n",
              "      <td>SELL</td>\n",
              "    </tr>\n",
              "    <tr>\n",
              "      <th>2018-02-20</th>\n",
              "      <td>1468.349976</td>\n",
              "      <td>6499200</td>\n",
              "      <td>1418.030994</td>\n",
              "      <td>45.737254</td>\n",
              "      <td>1463.768247</td>\n",
              "      <td>1372.293740</td>\n",
              "      <td>NaN</td>\n",
              "    </tr>\n",
              "    <tr>\n",
              "      <th>2018-02-21</th>\n",
              "      <td>1482.920044</td>\n",
              "      <td>6304400</td>\n",
              "      <td>1422.039002</td>\n",
              "      <td>49.734327</td>\n",
              "      <td>1471.773329</td>\n",
              "      <td>1372.304674</td>\n",
              "      <td>NaN</td>\n",
              "    </tr>\n",
              "    <tr>\n",
              "      <th>2018-02-22</th>\n",
              "      <td>1485.339966</td>\n",
              "      <td>4792400</td>\n",
              "      <td>1428.894995</td>\n",
              "      <td>53.510994</td>\n",
              "      <td>1482.405990</td>\n",
              "      <td>1375.384001</td>\n",
              "      <td>NaN</td>\n",
              "    </tr>\n",
              "  </tbody>\n",
              "</table>\n",
              "</div>"
            ],
            "text/plain": [
              "            Amzn Adj Close  Amzn Volume      Rolling        Std        Upper  \\\n",
              "Date                                                                           \n",
              "2018-01-25     1377.949951      4753000  1319.494995  34.854654  1354.349649   \n",
              "2018-01-26     1402.050049      4857300  1332.031995  39.922253  1371.954248   \n",
              "2018-01-29     1417.680054      5701900  1343.280005  46.779068  1390.059073   \n",
              "2018-01-30     1437.819946      5871900  1356.576001  53.112457  1409.688458   \n",
              "2018-01-31     1450.890015      6424700  1372.165003  55.838813  1428.003816   \n",
              "2018-02-01     1390.000000      9113800  1381.833008  48.566791  1430.399799   \n",
              "2018-02-02     1429.949951     11125700  1395.370007  39.578670  1434.948678   \n",
              "2018-02-05     1390.000000     11495000  1401.639002  31.801324  1433.440325   \n",
              "2018-02-06     1442.839966     11066800  1409.668994  30.958576  1440.627570   \n",
              "2018-02-07     1416.780029      7162700  1415.595996  24.954657  1440.550653   \n",
              "2018-02-08     1350.500000      8578600  1412.851001  30.458584  1443.309585   \n",
              "2018-02-09     1339.599976     14141500  1406.605994  38.309528  1444.915521   \n",
              "2018-02-12     1386.229980      6738900  1403.460986  38.589313  1442.050299   \n",
              "2018-02-13     1414.510010      5917900  1401.129993  36.952557  1438.082550   \n",
              "2018-02-14     1451.050049      5959200  1401.145996  36.976528  1438.122524   \n",
              "2018-02-15     1461.760010      5652700  1408.321997  41.285252  1449.607249   \n",
              "2018-02-16     1448.689941      4472600  1410.195996  42.774515  1452.970511   \n",
              "2018-02-20     1468.349976      6499200  1418.030994  45.737254  1463.768247   \n",
              "2018-02-21     1482.920044      6304400  1422.039002  49.734327  1471.773329   \n",
              "2018-02-22     1485.339966      4792400  1428.894995  53.510994  1482.405990   \n",
              "\n",
              "                  Lower Trade  \n",
              "Date                           \n",
              "2018-01-25  1284.640341   NaN  \n",
              "2018-01-26  1292.109742   NaN  \n",
              "2018-01-29  1296.500937   NaN  \n",
              "2018-01-30  1303.463544   NaN  \n",
              "2018-01-31  1316.326189   NaN  \n",
              "2018-02-01  1333.266217  SELL  \n",
              "2018-02-02  1355.791337   NaN  \n",
              "2018-02-05  1369.837678   NaN  \n",
              "2018-02-06  1378.710419   NaN  \n",
              "2018-02-07  1390.641339  SELL  \n",
              "2018-02-08  1382.392417   NaN  \n",
              "2018-02-09  1368.296466   NaN  \n",
              "2018-02-12  1364.871673   BUY  \n",
              "2018-02-13  1364.177436   NaN  \n",
              "2018-02-14  1364.169468   NaN  \n",
              "2018-02-15  1367.036745   NaN  \n",
              "2018-02-16  1367.421481  SELL  \n",
              "2018-02-20  1372.293740   NaN  \n",
              "2018-02-21  1372.304674   NaN  \n",
              "2018-02-22  1375.384001   NaN  "
            ]
          },
          "metadata": {
            "tags": []
          },
          "execution_count": 83
        }
      ]
    },
    {
      "metadata": {
        "id": "HJtxVWJE_3iI",
        "colab_type": "code",
        "colab": {}
      },
      "cell_type": "code",
      "source": [
        "#Defining a function for algorithmic trading\n",
        "def algo(amazon, invest, lag=1):\n",
        "    lastorder = 'SELL'\n",
        "    stocks = 0\n",
        "    cash = invest\n",
        "    for i in range(lag, len(amazon.index)):\n",
        "        if amazon['Trade'][i-1] == 'BUY' and lastorder == 'SELL':\n",
        "            stocks = cash / amazon['Amzn Adj Close'][i]\n",
        "            cash = 0\n",
        "            lastorder = 'BUY'\n",
        "            print(f\"Buy {stocks:5.2f} stocks on {amazon.index[i].date()}\"\\\n",
        "                 f\" at a price of {amazon['Amzn Adj Close'][i]:7.2f}\")\n",
        "        if amazon['Trade'][i-lag] == 'SELL' and lastorder == 'BUY':\n",
        "            print(f\"Sell {stocks:4.2f} stocks on {amazon.index[i].date()}\"\\\n",
        "                 f\" at a price of {amazon['Amzn Adj Close'][i]:7.2f}\")\n",
        "            cash = amazon['Amzn Adj Close'][i] * stocks\n",
        "            stocks = 0\n",
        "            lastorder = 'SELL'\n",
        "    if stocks > 0:\n",
        "        cash = amazon['Amzn Adj Close'][i] * stocks\n",
        "    return (cash - invest) / invest * 100"
      ],
      "execution_count": 0,
      "outputs": []
    },
    {
      "metadata": {
        "id": "1zSiD63HCNIJ",
        "colab_type": "code",
        "colab": {
          "base_uri": "https://localhost:8080/",
          "height": 399
        },
        "outputId": "eb48fe9d-bf22-46bc-8c2d-c589d5a4849c"
      },
      "cell_type": "code",
      "source": [
        "#investing 1,000 USD\n",
        "invest = 1000\n",
        "total_return = algo(amazon, invest)\n",
        "print(f\"Your total return of investment is {total_return:.2f} %,\" \\\n",
        "     f\" i.e. {total_return * invest / 100:.2f} USD.\")"
      ],
      "execution_count": 87,
      "outputs": [
        {
          "output_type": "stream",
          "text": [
            "Buy  1.18 stocks on 2017-03-24 at a price of  845.61\n",
            "Sell 1.18 stocks on 2017-04-07 at a price of  894.88\n",
            "Buy  1.17 stocks on 2017-04-18 at a price of  903.78\n",
            "Sell 1.17 stocks on 2017-05-05 at a price of  934.15\n",
            "Buy  1.12 stocks on 2017-06-14 at a price of  976.47\n",
            "Sell 1.12 stocks on 2017-06-27 at a price of  976.78\n",
            "Buy  1.13 stocks on 2017-07-06 at a price of  965.14\n",
            "Sell 1.13 stocks on 2017-07-17 at a price of 1010.04\n",
            "Buy  1.16 stocks on 2017-08-08 at a price of  989.84\n",
            "Sell 1.16 stocks on 2017-09-06 at a price of  967.80\n",
            "Buy  1.17 stocks on 2017-09-28 at a price of  956.40\n",
            "Sell 1.17 stocks on 2017-10-19 at a price of  986.61\n",
            "Buy  1.05 stocks on 2017-10-27 at a price of 1100.95\n",
            "Sell 1.05 stocks on 2017-11-03 at a price of 1111.60\n",
            "Buy  1.01 stocks on 2017-12-07 at a price of 1159.79\n",
            "Sell 1.01 stocks on 2017-12-21 at a price of 1174.76\n",
            "Buy  0.98 stocks on 2018-01-03 at a price of 1204.20\n",
            "Sell 0.98 stocks on 2018-01-19 at a price of 1294.58\n",
            "Buy  0.90 stocks on 2018-02-13 at a price of 1414.51\n",
            "Sell 0.90 stocks on 2018-02-20 at a price of 1468.35\n",
            "Your total return of investment is 31.82 %, i.e. 318.15 USD.\n"
          ],
          "name": "stdout"
        }
      ]
    },
    {
      "metadata": {
        "id": "6h38t4msCqLi",
        "colab_type": "code",
        "colab": {}
      },
      "cell_type": "code",
      "source": [
        ""
      ],
      "execution_count": 0,
      "outputs": []
    }
  ]
}
